{
  "nbformat": 4,
  "nbformat_minor": 0,
  "metadata": {
    "colab": {
      "provenance": [],
      "authorship_tag": "ABX9TyNM6A8299pwbzXr6U8VORLQ",
      "include_colab_link": true
    },
    "kernelspec": {
      "name": "python3",
      "display_name": "Python 3"
    },
    "language_info": {
      "name": "python"
    }
  },
  "cells": [
    {
      "cell_type": "markdown",
      "metadata": {
        "id": "view-in-github",
        "colab_type": "text"
      },
      "source": [
        "<a href=\"https://colab.research.google.com/github/GabrielArcanjo97/Regressao_com_Spark/blob/main/Regress%C3%A3o_com_Spark.ipynb\" target=\"_parent\"><img src=\"https://colab.research.google.com/assets/colab-badge.svg\" alt=\"Open In Colab\"/></a>"
      ]
    },
    {
      "cell_type": "code",
      "source": [
        "from pyspark.sql import session\n",
        "from google.colab import drive\n",
        "from pyspark.sql.types import IntegerType, DoubleType\n",
        "from pyspark.sql import functions as f\n",
        "from pyspark.ml.feature import VectorAssembler\n",
        "from pyspark.ml.stat import Correlation\n",
        "import pandas as pd\n",
        "import matplotlib.pyplot as plt\n",
        "import seaborn as sns\n",
        "from pyspark.ml.regression import LinearRegression\n",
        "from pyspark.ml.regression import DecisionTreeRegressor\n",
        "from pyspark.ml.evaluation import RegressionEvaluator\n",
        "from pyspark.ml.regression import RandomForestRegressor\n",
        "from pyspark.ml.tuning import CrossValidator, ParamGridBuilder"
      ],
      "metadata": {
        "id": "FGIOzYvKS0rE"
      },
      "execution_count": null,
      "outputs": []
    },
    {
      "cell_type": "markdown",
      "source": [
        "**Instalando o spark**"
      ],
      "metadata": {
        "id": "Wt-bSzeHy4Rf"
      }
    },
    {
      "cell_type": "code",
      "execution_count": null,
      "metadata": {
        "colab": {
          "base_uri": "https://localhost:8080/"
        },
        "id": "Dd_nPw06rqH8",
        "outputId": "71e4b2fe-b599-424d-a647-064382c93430"
      },
      "outputs": [
        {
          "output_type": "stream",
          "name": "stdout",
          "text": [
            "Collecting pyspark\n",
            "  Downloading pyspark-3.4.1.tar.gz (310.8 MB)\n",
            "\u001b[2K     \u001b[90m━━━━━━━━━━━━━━━━━━━━━━━━━━━━━━━━━━━━━━━\u001b[0m \u001b[32m310.8/310.8 MB\u001b[0m \u001b[31m4.3 MB/s\u001b[0m eta \u001b[36m0:00:00\u001b[0m\n",
            "\u001b[?25h  Preparing metadata (setup.py) ... \u001b[?25l\u001b[?25hdone\n",
            "Requirement already satisfied: py4j==0.10.9.7 in /usr/local/lib/python3.10/dist-packages (from pyspark) (0.10.9.7)\n",
            "Building wheels for collected packages: pyspark\n",
            "  Building wheel for pyspark (setup.py) ... \u001b[?25l\u001b[?25hdone\n",
            "  Created wheel for pyspark: filename=pyspark-3.4.1-py2.py3-none-any.whl size=311285387 sha256=92351a1a91a090c73b984c2caa023b6ab4508d251a5fad769337e2fc3d9c7781\n",
            "  Stored in directory: /root/.cache/pip/wheels/0d/77/a3/ff2f74cc9ab41f8f594dabf0579c2a7c6de920d584206e0834\n",
            "Successfully built pyspark\n",
            "Installing collected packages: pyspark\n",
            "Successfully installed pyspark-3.4.1\n"
          ]
        }
      ],
      "source": [
        "!pip install pyspark"
      ]
    },
    {
      "cell_type": "code",
      "source": [
        "# criando uma Session\n",
        "\n",
        "from pyspark.sql import session\n",
        "\n",
        "spark = session.SparkSession.builder\\\n",
        "        .master('local[*]')\\\n",
        "        .appName('Regressão com Spark')\\\n",
        "        .getOrCreate()\n",
        "\n",
        "spark"
      ],
      "metadata": {
        "colab": {
          "base_uri": "https://localhost:8080/",
          "height": 219
        },
        "id": "c63ELIc0ruVR",
        "outputId": "8fe6078f-3199-4119-8dd8-12f2b23509c9"
      },
      "execution_count": null,
      "outputs": [
        {
          "output_type": "execute_result",
          "data": {
            "text/plain": [
              "<pyspark.sql.session.SparkSession at 0x78e7f97e0f40>"
            ],
            "text/html": [
              "\n",
              "            <div>\n",
              "                <p><b>SparkSession - in-memory</b></p>\n",
              "                \n",
              "        <div>\n",
              "            <p><b>SparkContext</b></p>\n",
              "\n",
              "            <p><a href=\"http://0b27ecda6f21:4040\">Spark UI</a></p>\n",
              "\n",
              "            <dl>\n",
              "              <dt>Version</dt>\n",
              "                <dd><code>v3.4.1</code></dd>\n",
              "              <dt>Master</dt>\n",
              "                <dd><code>local[*]</code></dd>\n",
              "              <dt>AppName</dt>\n",
              "                <dd><code>Regressão com Spark</code></dd>\n",
              "            </dl>\n",
              "        </div>\n",
              "        \n",
              "            </div>\n",
              "        "
            ]
          },
          "metadata": {},
          "execution_count": 2
        }
      ]
    },
    {
      "cell_type": "markdown",
      "source": [
        "**Montando Drive**"
      ],
      "metadata": {
        "id": "3hQEOv26sAQE"
      }
    },
    {
      "cell_type": "code",
      "source": [
        "from google.colab import drive\n",
        "\n",
        "drive.mount('/content/drive')"
      ],
      "metadata": {
        "colab": {
          "base_uri": "https://localhost:8080/"
        },
        "id": "V0PEH-Lwr_Eq",
        "outputId": "795bb61c-a686-4f80-f121-8147aa4088aa"
      },
      "execution_count": null,
      "outputs": [
        {
          "output_type": "stream",
          "name": "stdout",
          "text": [
            "Mounted at /content/drive\n"
          ]
        }
      ]
    },
    {
      "cell_type": "code",
      "source": [
        "# importando os dados\n",
        "\n",
        "dados = spark.read.json('/content/drive/MyDrive/Alura/BIG DATA/Trabalhando com regressão Spark/imoveis.json')"
      ],
      "metadata": {
        "id": "Ne0hUDk0sMV4"
      },
      "execution_count": null,
      "outputs": []
    },
    {
      "cell_type": "markdown",
      "source": [
        "**Organizando os Dados**"
      ],
      "metadata": {
        "id": "XYvvP0h_spr3"
      }
    },
    {
      "cell_type": "code",
      "source": [
        "# visualizando os dados\n",
        "\n",
        "dados.show(truncate=False)"
      ],
      "metadata": {
        "colab": {
          "base_uri": "https://localhost:8080/"
        },
        "id": "wJuLUn8ts2QE",
        "outputId": "17efdcbb-d53d-4bc0-c13d-4b548f36712e"
      },
      "execution_count": null,
      "outputs": [
        {
          "output_type": "stream",
          "name": "stdout",
          "text": [
            "+--------------------------+-----------------------------------------------------------------------------------------------------------------------------------------------------------------+\n",
            "|ident                     |listing                                                                                                                                                          |\n",
            "+--------------------------+-----------------------------------------------------------------------------------------------------------------------------------------------------------------+\n",
            "|{775564-BOJSMVON, Website}|{{Rio de Janeiro, {-22.909429, -43.413557}, Taquara, Zona Oeste}, {0, 0, 0, 1, 0, 62, 0, 0, 62}, {45000, {150, 0}}, {Outros, Residencial}}                       |\n",
            "|{660895-AUENKNYY, Website}|{{Rio de Janeiro, {-22.869698, -43.509141}, Santíssimo, Zona Oeste}, {1, 2, 0, 1, 0, 0, 0, 0, 44}, {45000, {120, 0}}, {Apartamento, Residencial}}                |\n",
            "|{751522-JESYFEQL, Website}|{{Rio de Janeiro, {-22.986927, -43.646786}, Pedra de Guaratiba, Zona Oeste}, {0, 0, 0, 0, 0, 132, 0, 0, 132}, {50000, {100, 0}}, {Outros, Residencial}}          |\n",
            "|{714052-GAAEWYKS, Website}|{{Rio de Janeiro, {-22.881977, -43.330818}, Cascadura, Zona Norte}, {1, 0, 0, 0, 0, 32, 3, 0, 32}, {45000, {468, 346}}, {Outros, Comercial}}                     |\n",
            "|{568886-ZIBFOMCC, Website}|{{Rio de Janeiro, {-23.027653, -43.480742}, Recreio dos Bandeirantes, Zona Oeste}, {2, 3, 3, 1, 1, 0, 2, 4, 60}, {50000, {400, 120}}, {Apartamento, Residencial}}|\n",
            "|{526755-OBLTYTEN, Website}|{{Rio de Janeiro, {-22.966059, -43.571183}, Guaratiba, Zona Oeste}, {0, 0, 0, 0, 0, 200, 0, 0, 200}, {50000, {0, null}}, {Outros, Residencial}}                  |\n",
            "|{593569-CJLMNFGW, Website}|{{Rio de Janeiro, {-22.939028, -43.3453}, Freguesia (Jacarepaguá), Zona Oeste}, {1, 0, 0, 0, 0, 25, 2, 0, 25}, {50000, {801, 211}}, {Outros, Comercial}}         |\n",
            "|{989181-RYJOLMCU, Website}|{{Rio de Janeiro, {-22.841509, -43.278855}, Penha, Zona Norte}, {1, 0, 0, 0, 0, 23, 0, 0, 23}, {50000, {230, null}}, {Outros, Comercial}}                        |\n",
            "|{145372-EZKAKSWM, Website}|{{Rio de Janeiro, {-22.835609, -43.392253}, Ricardo de Albuquerque, Zona Norte}, {0, 0, 0, 0, 0, 60, 0, 0, 60}, {45000, {null, null}}, {Outros, Comercial}}      |\n",
            "|{792086-NWNQTDYL, Website}|{{Rio de Janeiro, {-22.885306, -43.253044}, Jacarezinho, Zona Norte}, {1, 1, 0, 1, 0, 35, 0, 0, 33}, {45336, {0, 0}}, {Apartamento, Residencial}}                |\n",
            "|{339622-MNZGLKTZ, Website}|{{Rio de Janeiro, {-22.990425, -43.635505}, Guaratiba, Zona Oeste}, {0, 0, 0, 0, 0, 120, 0, 0, 120}, {45000, {0, 0}}, {Outros, Residencial}}                     |\n",
            "|{952338-SVULQMXR, Website}|{{Rio de Janeiro, {-22.877982, -43.651456}, Santa Cruz, Zona Oeste}, {0, 0, 0, 0, 0, 468, 0, 0, 468}, {45000, {0, 0}}, {Outros, Residencial}}                    |\n",
            "|{570439-LDICQOXZ, Website}|{{Rio de Janeiro, {-22.998183, -43.504337}, Vargem Grande, Zona Oeste}, {0, 0, 0, 0, 0, 180, 1, 0, 180}, {50000, {0, 0}}, {Outros, Residencial}}                 |\n",
            "|{684023-YTBNKLLO, Website}|{{Rio de Janeiro, {-22.843794, -43.512464}, Bangu, Zona Oeste}, {0, 0, 0, 0, 0, 128, 0, 0, 128}, {50000, {0, 0}}, {Outros, Residencial}}                         |\n",
            "|{629412-VKUMMAVR, Website}|{{Rio de Janeiro, {-22.91077, -43.37182}, Tanque, Zona Oeste}, {0, 0, 0, 0, 0, 82, 1, 0, 82}, {45000, {300, 0}}, {Outros, Residencial}}                          |\n",
            "|{041590-HMJIRKDX, Website}|{{Rio de Janeiro, {-22.910099, -43.17797}, Centro, Zona Central}, {0, 0, 0, 1, 0, 5, 0, 0, 5}, {45000, {0, 0}}, {Outros, Comercial}}                             |\n",
            "|{870098-XTRYJAGY, Website}|{{Rio de Janeiro, {-22.867219, -43.335067}, Madureira, Zona Norte}, {1, 0, 0, 0, 0, 350, 0, 0, 350}, {50000, {0, 1600}}, {Outros, Comercial}}                    |\n",
            "|{951104-MACIAPIS, Website}|{{Rio de Janeiro, {-22.897014, -43.201575}, Santo Cristo, Zona Central}, {2, 3, 20, 1, 1, 0, 20, 19, 70}, {45000, {350, 120}}, {Apartamento, Residencial}}       |\n",
            "|{375665-GHMFEZXX, Website}|{{Rio de Janeiro, {-22.902419, -43.20952}, Santo Cristo, Zona Central}, {2, 3, 20, 1, 1, 0, 20, 19, 70}, {50000, {350, 120}}, {Apartamento, Residencial}}        |\n",
            "|{441711-LRTWHRUA, Website}|{{Rio de Janeiro, {-22.989852, -43.623097}, Pedra de Guaratiba, Zona Oeste}, {1, 1, 0, 0, 0, 45, 2, 0, 37}, {50000, {0, 0}}, {Apartamento, Residencial}}         |\n",
            "+--------------------------+-----------------------------------------------------------------------------------------------------------------------------------------------------------------+\n",
            "only showing top 20 rows\n",
            "\n"
          ]
        }
      ]
    },
    {
      "cell_type": "code",
      "source": [
        "# verificando a quantidade de informações que possui os dados\n",
        "\n",
        "dados.count()"
      ],
      "metadata": {
        "colab": {
          "base_uri": "https://localhost:8080/"
        },
        "id": "TzkCtTn6zpaB",
        "outputId": "8c790013-2766-43dc-fb78-c26794cf5f24"
      },
      "execution_count": null,
      "outputs": [
        {
          "output_type": "execute_result",
          "data": {
            "text/plain": [
              "73615"
            ]
          },
          "metadata": {},
          "execution_count": 6
        }
      ]
    },
    {
      "cell_type": "markdown",
      "source": [
        "**Seleção de Features**"
      ],
      "metadata": {
        "id": "1ivh49qUzyPF"
      }
    },
    {
      "cell_type": "code",
      "source": [
        "dados.printSchema()"
      ],
      "metadata": {
        "colab": {
          "base_uri": "https://localhost:8080/"
        },
        "id": "8KA4mHrxvfMj",
        "outputId": "d6e78e03-8c6d-4596-ef5d-27a4bc0295a0"
      },
      "execution_count": null,
      "outputs": [
        {
          "output_type": "stream",
          "name": "stdout",
          "text": [
            "root\n",
            " |-- ident: struct (nullable = true)\n",
            " |    |-- customerID: string (nullable = true)\n",
            " |    |-- source: string (nullable = true)\n",
            " |-- listing: struct (nullable = true)\n",
            " |    |-- address: struct (nullable = true)\n",
            " |    |    |-- city: string (nullable = true)\n",
            " |    |    |-- location: struct (nullable = true)\n",
            " |    |    |    |-- lat: double (nullable = true)\n",
            " |    |    |    |-- lon: double (nullable = true)\n",
            " |    |    |-- neighborhood: string (nullable = true)\n",
            " |    |    |-- zone: string (nullable = true)\n",
            " |    |-- features: struct (nullable = true)\n",
            " |    |    |-- bathrooms: long (nullable = true)\n",
            " |    |    |-- bedrooms: long (nullable = true)\n",
            " |    |    |-- floors: long (nullable = true)\n",
            " |    |    |-- parkingSpaces: long (nullable = true)\n",
            " |    |    |-- suites: long (nullable = true)\n",
            " |    |    |-- totalAreas: string (nullable = true)\n",
            " |    |    |-- unitFloor: long (nullable = true)\n",
            " |    |    |-- unitsOnTheFloor: long (nullable = true)\n",
            " |    |    |-- usableAreas: string (nullable = true)\n",
            " |    |-- prices: struct (nullable = true)\n",
            " |    |    |-- price: string (nullable = true)\n",
            " |    |    |-- tax: struct (nullable = true)\n",
            " |    |    |    |-- condo: string (nullable = true)\n",
            " |    |    |    |-- iptu: string (nullable = true)\n",
            " |    |-- types: struct (nullable = true)\n",
            " |    |    |-- unit: string (nullable = true)\n",
            " |    |    |-- usage: string (nullable = true)\n",
            "\n"
          ]
        }
      ]
    },
    {
      "cell_type": "code",
      "source": [
        "# separando os dados em colunas e deletando features que não irei utilizar\n",
        "\n",
        "dataset = dados\\\n",
        "    .select('ident.customerID','listing.address.*','listing.types.*','listing.prices.price','listing.prices.tax.*','listing.features.*')\\\n",
        "    .drop('city','location','totalAreas')"
      ],
      "metadata": {
        "id": "IYfCbJZzsmq2"
      },
      "execution_count": null,
      "outputs": []
    },
    {
      "cell_type": "code",
      "source": [
        "dataset.show()"
      ],
      "metadata": {
        "colab": {
          "base_uri": "https://localhost:8080/"
        },
        "id": "Syu_7a6_v3Ki",
        "outputId": "d40b7702-5671-4b91-895d-eafb65e455d6"
      },
      "execution_count": null,
      "outputs": [
        {
          "output_type": "stream",
          "name": "stdout",
          "text": [
            "+---------------+--------------------+------------+-----------+-----------+-----+-----+----+---------+--------+------+-------------+------+---------+---------------+-----------+\n",
            "|     customerID|        neighborhood|        zone|       unit|      usage|price|condo|iptu|bathrooms|bedrooms|floors|parkingSpaces|suites|unitFloor|unitsOnTheFloor|usableAreas|\n",
            "+---------------+--------------------+------------+-----------+-----------+-----+-----+----+---------+--------+------+-------------+------+---------+---------------+-----------+\n",
            "|775564-BOJSMVON|             Taquara|  Zona Oeste|     Outros|Residencial|45000|  150|   0|        0|       0|     0|            1|     0|        0|              0|         62|\n",
            "|660895-AUENKNYY|          Santíssimo|  Zona Oeste|Apartamento|Residencial|45000|  120|   0|        1|       2|     0|            1|     0|        0|              0|         44|\n",
            "|751522-JESYFEQL|  Pedra de Guaratiba|  Zona Oeste|     Outros|Residencial|50000|  100|   0|        0|       0|     0|            0|     0|        0|              0|        132|\n",
            "|714052-GAAEWYKS|           Cascadura|  Zona Norte|     Outros|  Comercial|45000|  468| 346|        1|       0|     0|            0|     0|        3|              0|         32|\n",
            "|568886-ZIBFOMCC|Recreio dos Bande...|  Zona Oeste|Apartamento|Residencial|50000|  400| 120|        2|       3|     3|            1|     1|        2|              4|         60|\n",
            "|526755-OBLTYTEN|           Guaratiba|  Zona Oeste|     Outros|Residencial|50000|    0|null|        0|       0|     0|            0|     0|        0|              0|        200|\n",
            "|593569-CJLMNFGW|Freguesia (Jacare...|  Zona Oeste|     Outros|  Comercial|50000|  801| 211|        1|       0|     0|            0|     0|        2|              0|         25|\n",
            "|989181-RYJOLMCU|               Penha|  Zona Norte|     Outros|  Comercial|50000|  230|null|        1|       0|     0|            0|     0|        0|              0|         23|\n",
            "|145372-EZKAKSWM|Ricardo de Albuqu...|  Zona Norte|     Outros|  Comercial|45000| null|null|        0|       0|     0|            0|     0|        0|              0|         60|\n",
            "|792086-NWNQTDYL|         Jacarezinho|  Zona Norte|Apartamento|Residencial|45336|    0|   0|        1|       1|     0|            1|     0|        0|              0|         33|\n",
            "|339622-MNZGLKTZ|           Guaratiba|  Zona Oeste|     Outros|Residencial|45000|    0|   0|        0|       0|     0|            0|     0|        0|              0|        120|\n",
            "|952338-SVULQMXR|          Santa Cruz|  Zona Oeste|     Outros|Residencial|45000|    0|   0|        0|       0|     0|            0|     0|        0|              0|        468|\n",
            "|570439-LDICQOXZ|       Vargem Grande|  Zona Oeste|     Outros|Residencial|50000|    0|   0|        0|       0|     0|            0|     0|        1|              0|        180|\n",
            "|684023-YTBNKLLO|               Bangu|  Zona Oeste|     Outros|Residencial|50000|    0|   0|        0|       0|     0|            0|     0|        0|              0|        128|\n",
            "|629412-VKUMMAVR|              Tanque|  Zona Oeste|     Outros|Residencial|45000|  300|   0|        0|       0|     0|            0|     0|        1|              0|         82|\n",
            "|041590-HMJIRKDX|              Centro|Zona Central|     Outros|  Comercial|45000|    0|   0|        0|       0|     0|            1|     0|        0|              0|          5|\n",
            "|870098-XTRYJAGY|           Madureira|  Zona Norte|     Outros|  Comercial|50000|    0|1600|        1|       0|     0|            0|     0|        0|              0|        350|\n",
            "|951104-MACIAPIS|        Santo Cristo|Zona Central|Apartamento|Residencial|45000|  350| 120|        2|       3|    20|            1|     1|       20|             19|         70|\n",
            "|375665-GHMFEZXX|        Santo Cristo|Zona Central|Apartamento|Residencial|50000|  350| 120|        2|       3|    20|            1|     1|       20|             19|         70|\n",
            "|441711-LRTWHRUA|  Pedra de Guaratiba|  Zona Oeste|Apartamento|Residencial|50000|    0|   0|        1|       1|     0|            0|     0|        2|              0|         37|\n",
            "+---------------+--------------------+------------+-----------+-----------+-----+-----+----+---------+--------+------+-------------+------+---------+---------------+-----------+\n",
            "only showing top 20 rows\n",
            "\n"
          ]
        }
      ]
    },
    {
      "cell_type": "markdown",
      "source": [
        "**Organizando tipos das colunas**"
      ],
      "metadata": {
        "id": "O-B99fTCwBy6"
      }
    },
    {
      "cell_type": "code",
      "source": [
        "dataset.printSchema()"
      ],
      "metadata": {
        "colab": {
          "base_uri": "https://localhost:8080/"
        },
        "id": "2KP95vE0wLuw",
        "outputId": "723b26fe-6701-42be-d661-432a981e0270"
      },
      "execution_count": null,
      "outputs": [
        {
          "output_type": "stream",
          "name": "stdout",
          "text": [
            "root\n",
            " |-- customerID: string (nullable = true)\n",
            " |-- neighborhood: string (nullable = true)\n",
            " |-- zone: string (nullable = true)\n",
            " |-- unit: string (nullable = true)\n",
            " |-- usage: string (nullable = true)\n",
            " |-- price: string (nullable = true)\n",
            " |-- condo: string (nullable = true)\n",
            " |-- iptu: string (nullable = true)\n",
            " |-- bathrooms: long (nullable = true)\n",
            " |-- bedrooms: long (nullable = true)\n",
            " |-- floors: long (nullable = true)\n",
            " |-- parkingSpaces: long (nullable = true)\n",
            " |-- suites: long (nullable = true)\n",
            " |-- unitFloor: long (nullable = true)\n",
            " |-- unitsOnTheFloor: long (nullable = true)\n",
            " |-- usableAreas: string (nullable = true)\n",
            "\n"
          ]
        }
      ]
    },
    {
      "cell_type": "code",
      "source": [
        "# importando os tipos que vou utilizar\n",
        "\n",
        "from pyspark.sql.types import IntegerType, DoubleType"
      ],
      "metadata": {
        "id": "vEPjTIUdwOnw"
      },
      "execution_count": null,
      "outputs": []
    },
    {
      "cell_type": "code",
      "source": [
        "dataset = dataset\\\n",
        "    .withColumn('price',dataset.price.cast(DoubleType()))\\\n",
        "    .withColumn('condo',dataset.condo.cast(DoubleType()))\\\n",
        "    .withColumn('iptu',dataset.iptu.cast(DoubleType()))\\\n",
        "    .withColumn('usableAreas',dataset.usableAreas.cast(IntegerType()))"
      ],
      "metadata": {
        "id": "ruiW2ywVwYy-"
      },
      "execution_count": null,
      "outputs": []
    },
    {
      "cell_type": "code",
      "source": [
        "dataset.printSchema()"
      ],
      "metadata": {
        "colab": {
          "base_uri": "https://localhost:8080/"
        },
        "id": "veo4EoBbw1cl",
        "outputId": "1c0f46e3-c9d9-4cca-add8-6842ffd41c56"
      },
      "execution_count": null,
      "outputs": [
        {
          "output_type": "stream",
          "name": "stdout",
          "text": [
            "root\n",
            " |-- customerID: string (nullable = true)\n",
            " |-- neighborhood: string (nullable = true)\n",
            " |-- zone: string (nullable = true)\n",
            " |-- unit: string (nullable = true)\n",
            " |-- usage: string (nullable = true)\n",
            " |-- price: double (nullable = true)\n",
            " |-- condo: double (nullable = true)\n",
            " |-- iptu: double (nullable = true)\n",
            " |-- bathrooms: long (nullable = true)\n",
            " |-- bedrooms: long (nullable = true)\n",
            " |-- floors: long (nullable = true)\n",
            " |-- parkingSpaces: long (nullable = true)\n",
            " |-- suites: long (nullable = true)\n",
            " |-- unitFloor: long (nullable = true)\n",
            " |-- unitsOnTheFloor: long (nullable = true)\n",
            " |-- usableAreas: integer (nullable = true)\n",
            "\n"
          ]
        }
      ]
    },
    {
      "cell_type": "markdown",
      "source": [
        "**Tratando valores nulos e string branca**"
      ],
      "metadata": {
        "id": "h8WTjlc7xEH9"
      }
    },
    {
      "cell_type": "code",
      "source": [
        "from pyspark.sql import functions as f"
      ],
      "metadata": {
        "id": "LEJ_6Po5xILB"
      },
      "execution_count": null,
      "outputs": []
    },
    {
      "cell_type": "code",
      "source": [
        "# visualizando todos os valores nulos no meu dataset\n",
        "\n",
        "dataset\\\n",
        "  .select([f.count(f.when(f.isnan(c)|f.isnull(c),True)).alias(c) for c in dataset.columns])\\\n",
        "  .show()"
      ],
      "metadata": {
        "colab": {
          "base_uri": "https://localhost:8080/"
        },
        "id": "5ZQVGV8TxTQi",
        "outputId": "fc05f7c9-4660-4b7e-afff-e11277f90a3b"
      },
      "execution_count": null,
      "outputs": [
        {
          "output_type": "stream",
          "name": "stdout",
          "text": [
            "+----------+------------+----+----+-----+-----+-----+----+---------+--------+------+-------------+------+---------+---------------+-----------+\n",
            "|customerID|neighborhood|zone|unit|usage|price|condo|iptu|bathrooms|bedrooms|floors|parkingSpaces|suites|unitFloor|unitsOnTheFloor|usableAreas|\n",
            "+----------+------------+----+----+-----+-----+-----+----+---------+--------+------+-------------+------+---------+---------------+-----------+\n",
            "|         0|           0|   0|   0|    0|    0| 6504|9116|        0|       0|     0|            0|     0|        0|              0|          0|\n",
            "+----------+------------+----+----+-----+-----+-----+----+---------+--------+------+-------------+------+---------+---------------+-----------+\n",
            "\n"
          ]
        }
      ]
    },
    {
      "cell_type": "code",
      "source": [
        "# substituindo valores nulos por 0\n",
        "\n",
        "dataset = dataset\\\n",
        "    .select('*')\\\n",
        "    .na.fill(0)"
      ],
      "metadata": {
        "id": "-jrCLQ1xxlSn"
      },
      "execution_count": null,
      "outputs": []
    },
    {
      "cell_type": "code",
      "source": [
        "# verificando se ainda existem valores nulos\n",
        "\n",
        "dataset\\\n",
        "  .select([f.count(f.when(f.isnan(c)|f.isnull(c),True)).alias(c) for c in dataset.columns])\\\n",
        "  .show()"
      ],
      "metadata": {
        "colab": {
          "base_uri": "https://localhost:8080/"
        },
        "id": "yY2v0LHjxvpO",
        "outputId": "aba32d39-9f46-4568-82d6-991d33b271a3"
      },
      "execution_count": null,
      "outputs": [
        {
          "output_type": "stream",
          "name": "stdout",
          "text": [
            "+----------+------------+----+----+-----+-----+-----+----+---------+--------+------+-------------+------+---------+---------------+-----------+\n",
            "|customerID|neighborhood|zone|unit|usage|price|condo|iptu|bathrooms|bedrooms|floors|parkingSpaces|suites|unitFloor|unitsOnTheFloor|usableAreas|\n",
            "+----------+------------+----+----+-----+-----+-----+----+---------+--------+------+-------------+------+---------+---------------+-----------+\n",
            "|         0|           0|   0|   0|    0|    0|    0|   0|        0|       0|     0|            0|     0|        0|              0|          0|\n",
            "+----------+------------+----+----+-----+-----+-----+----+---------+--------+------+-------------+------+---------+---------------+-----------+\n",
            "\n"
          ]
        }
      ]
    },
    {
      "cell_type": "code",
      "source": [
        "# como o tipo da coluna zone é uma string, muito provavel que esses valores vazios\n",
        "# deve ser string vazia, sendo assim, vou selecionar todo o meu dataset, menos com\n",
        "# os valores vazios\n",
        "\n",
        "dataset\\\n",
        "  .select('zone')\\\n",
        "  .groupby('zone')\\\n",
        "  .count()\\\n",
        "  .show()"
      ],
      "metadata": {
        "colab": {
          "base_uri": "https://localhost:8080/"
        },
        "id": "3yHeAuIMx_DX",
        "outputId": "ead30a4c-0b3c-463e-e7d6-3ec4692219a3"
      },
      "execution_count": null,
      "outputs": [
        {
          "output_type": "stream",
          "name": "stdout",
          "text": [
            "+------------+-----+\n",
            "|        zone|count|\n",
            "+------------+-----+\n",
            "|  Zona Norte|15191|\n",
            "|  Zona Oeste|37116|\n",
            "|Zona Central| 1921|\n",
            "|    Zona Sul|19222|\n",
            "|            |  165|\n",
            "+------------+-----+\n",
            "\n"
          ]
        }
      ]
    },
    {
      "cell_type": "code",
      "source": [
        "# retirando linhas que contem zona em branco\n",
        "\n",
        "dataset = dataset\\\n",
        "    .where(f.col('zone')!='')"
      ],
      "metadata": {
        "id": "PyH9FSfdyKC2"
      },
      "execution_count": null,
      "outputs": []
    },
    {
      "cell_type": "code",
      "source": [
        "dataset\\\n",
        "  .select('zone')\\\n",
        "  .groupby('zone')\\\n",
        "  .count()\\\n",
        "  .show()"
      ],
      "metadata": {
        "colab": {
          "base_uri": "https://localhost:8080/"
        },
        "id": "Y9v8V08MyX7C",
        "outputId": "6f42ade6-f152-4e63-c5a1-4af43d3ef89b"
      },
      "execution_count": null,
      "outputs": [
        {
          "output_type": "stream",
          "name": "stdout",
          "text": [
            "+------------+-----+\n",
            "|        zone|count|\n",
            "+------------+-----+\n",
            "|  Zona Norte|15191|\n",
            "|  Zona Oeste|37116|\n",
            "|Zona Central| 1921|\n",
            "|    Zona Sul|19222|\n",
            "+------------+-----+\n",
            "\n"
          ]
        }
      ]
    },
    {
      "cell_type": "code",
      "source": [
        "dataset\\\n",
        "  .select('usage')\\\n",
        "  .groupby('usage')\\\n",
        "  .count()\\\n",
        "  .show()"
      ],
      "metadata": {
        "colab": {
          "base_uri": "https://localhost:8080/"
        },
        "id": "6KY4OzEByfnJ",
        "outputId": "03f49b2c-4246-43da-c0a7-0e578fd0e8e8"
      },
      "execution_count": null,
      "outputs": [
        {
          "output_type": "stream",
          "name": "stdout",
          "text": [
            "+-----------+-----+\n",
            "|      usage|count|\n",
            "+-----------+-----+\n",
            "|  Comercial| 4011|\n",
            "|Residencial|69439|\n",
            "+-----------+-----+\n",
            "\n"
          ]
        }
      ]
    },
    {
      "cell_type": "code",
      "source": [
        "# como existe um valor muito alto nos imoveis Residencial, vou estar trabalhando\n",
        "# somente com os Residenciais retirando os Comerciais\n",
        "\n",
        "dataset = dataset\\\n",
        "    .select('*')\\\n",
        "    .where(\"usage == 'Residencial'\")"
      ],
      "metadata": {
        "id": "8Wt1UbCryq5m"
      },
      "execution_count": null,
      "outputs": []
    },
    {
      "cell_type": "code",
      "source": [
        "dataset\\\n",
        "  .select('usage')\\\n",
        "  .groupby('usage')\\\n",
        "  .count()\\\n",
        "  .show()"
      ],
      "metadata": {
        "colab": {
          "base_uri": "https://localhost:8080/"
        },
        "id": "pkbBGSptzAK0",
        "outputId": "ddeacba3-3265-44f2-90b6-7c2fdc04e613"
      },
      "execution_count": null,
      "outputs": [
        {
          "output_type": "stream",
          "name": "stdout",
          "text": [
            "+-----------+-----+\n",
            "|      usage|count|\n",
            "+-----------+-----+\n",
            "|Residencial|69439|\n",
            "+-----------+-----+\n",
            "\n"
          ]
        }
      ]
    },
    {
      "cell_type": "markdown",
      "source": [
        "**Preparando os Dados para fazer o Modelo de Regressão**"
      ],
      "metadata": {
        "id": "fyHqb5CGzIXz"
      }
    },
    {
      "cell_type": "code",
      "source": [
        "dataset.show()"
      ],
      "metadata": {
        "colab": {
          "base_uri": "https://localhost:8080/"
        },
        "id": "1vmjqjjjzMVP",
        "outputId": "bf00f3fb-7198-4af8-d909-b655c3cddcf0"
      },
      "execution_count": null,
      "outputs": [
        {
          "output_type": "stream",
          "name": "stdout",
          "text": [
            "+---------------+--------------------+------------+-----------+-----------+-------+-----+-----+---------+--------+------+-------------+------+---------+---------------+-----------+\n",
            "|     customerID|        neighborhood|        zone|       unit|      usage|  price|condo| iptu|bathrooms|bedrooms|floors|parkingSpaces|suites|unitFloor|unitsOnTheFloor|usableAreas|\n",
            "+---------------+--------------------+------------+-----------+-----------+-------+-----+-----+---------+--------+------+-------------+------+---------+---------------+-----------+\n",
            "|775564-BOJSMVON|             Taquara|  Zona Oeste|     Outros|Residencial|45000.0|150.0|  0.0|        0|       0|     0|            1|     0|        0|              0|         62|\n",
            "|660895-AUENKNYY|          Santíssimo|  Zona Oeste|Apartamento|Residencial|45000.0|120.0|  0.0|        1|       2|     0|            1|     0|        0|              0|         44|\n",
            "|751522-JESYFEQL|  Pedra de Guaratiba|  Zona Oeste|     Outros|Residencial|50000.0|100.0|  0.0|        0|       0|     0|            0|     0|        0|              0|        132|\n",
            "|568886-ZIBFOMCC|Recreio dos Bande...|  Zona Oeste|Apartamento|Residencial|50000.0|400.0|120.0|        2|       3|     3|            1|     1|        2|              4|         60|\n",
            "|526755-OBLTYTEN|           Guaratiba|  Zona Oeste|     Outros|Residencial|50000.0|  0.0|  0.0|        0|       0|     0|            0|     0|        0|              0|        200|\n",
            "|792086-NWNQTDYL|         Jacarezinho|  Zona Norte|Apartamento|Residencial|45336.0|  0.0|  0.0|        1|       1|     0|            1|     0|        0|              0|         33|\n",
            "|339622-MNZGLKTZ|           Guaratiba|  Zona Oeste|     Outros|Residencial|45000.0|  0.0|  0.0|        0|       0|     0|            0|     0|        0|              0|        120|\n",
            "|952338-SVULQMXR|          Santa Cruz|  Zona Oeste|     Outros|Residencial|45000.0|  0.0|  0.0|        0|       0|     0|            0|     0|        0|              0|        468|\n",
            "|570439-LDICQOXZ|       Vargem Grande|  Zona Oeste|     Outros|Residencial|50000.0|  0.0|  0.0|        0|       0|     0|            0|     0|        1|              0|        180|\n",
            "|684023-YTBNKLLO|               Bangu|  Zona Oeste|     Outros|Residencial|50000.0|  0.0|  0.0|        0|       0|     0|            0|     0|        0|              0|        128|\n",
            "|629412-VKUMMAVR|              Tanque|  Zona Oeste|     Outros|Residencial|45000.0|300.0|  0.0|        0|       0|     0|            0|     0|        1|              0|         82|\n",
            "|951104-MACIAPIS|        Santo Cristo|Zona Central|Apartamento|Residencial|45000.0|350.0|120.0|        2|       3|    20|            1|     1|       20|             19|         70|\n",
            "|375665-GHMFEZXX|        Santo Cristo|Zona Central|Apartamento|Residencial|50000.0|350.0|120.0|        2|       3|    20|            1|     1|       20|             19|         70|\n",
            "|441711-LRTWHRUA|  Pedra de Guaratiba|  Zona Oeste|Apartamento|Residencial|50000.0|  0.0|  0.0|        1|       1|     0|            0|     0|        2|              0|         37|\n",
            "|221946-ENAQETGD|           Guaratiba|  Zona Oeste|     Outros|Residencial|45020.0|  0.0|  0.0|        0|       0|     0|            0|     0|        0|              0|        120|\n",
            "|023787-PTASXXTL|           Guaratiba|  Zona Oeste|     Outros|Residencial|45040.0|  0.0|  0.0|        0|       0|     0|            0|     0|        0|              0|        120|\n",
            "|385687-SWOBLUWG|          Santa Cruz|  Zona Oeste|     Outros|Residencial|45000.0|  0.0|  0.0|        0|       0|     0|            0|     0|        0|              0|        150|\n",
            "|037953-VZOABKON|         Coelho Neto|  Zona Norte|Apartamento|Residencial|45000.0|  0.0|  0.0|        1|       2|     0|            1|     0|        0|              0|         30|\n",
            "|913561-GIAMXOYU|           Guaratiba|  Zona Oeste|     Outros|Residencial|45000.0|  0.0|  0.0|        0|       0|     0|            0|     0|        0|              0|        128|\n",
            "|511928-EYKXPKBU|           Guaratiba|  Zona Oeste|     Outros|Residencial|45070.0|  0.0|  0.0|        0|       0|     0|            0|     0|        0|              0|        120|\n",
            "+---------------+--------------------+------------+-----------+-----------+-------+-----+-----+---------+--------+------+-------------+------+---------+---------------+-----------+\n",
            "only showing top 20 rows\n",
            "\n"
          ]
        }
      ]
    },
    {
      "cell_type": "markdown",
      "source": [
        "para modelos de regressão é dificil trabalhar com variaveis que são categoricas e são multicategoricas, uma dela por exemplo é a unit, para facilitar, vou transformar essas variaveis em variaveis numericas, para fazer isso vou utilizar uma técnica chamada de variáveis dummy.\n",
        "\n",
        "Essa ténicas faz com que, se eu tenho uma coluna por exemplo a unit, que tem apartamento, casa e outros, são 3 possiveis valores que vai assumir, e em vez de ter 1 colunas com esses possiveis valores, eu vou ter 3 colunas e essas colunas vao ser, casa, apartamento e outros."
      ],
      "metadata": {
        "id": "veKDOeRa1Xcm"
      }
    },
    {
      "cell_type": "code",
      "source": [
        "zone = dataset\\\n",
        "  .groupby('customerID')\\\n",
        "  .pivot('zone')\\\n",
        "  .agg(f.lit(1))\\\n",
        "  .na.fill(0)"
      ],
      "metadata": {
        "id": "nEMvlgbwzqHb"
      },
      "execution_count": null,
      "outputs": []
    },
    {
      "cell_type": "code",
      "source": [
        "zone.show()"
      ],
      "metadata": {
        "colab": {
          "base_uri": "https://localhost:8080/"
        },
        "id": "U3NtnuVE0XoH",
        "outputId": "a83a4913-25ff-43a1-f665-8fd51bda017a"
      },
      "execution_count": null,
      "outputs": [
        {
          "output_type": "stream",
          "name": "stdout",
          "text": [
            "+---------------+------------+----------+----------+--------+\n",
            "|     customerID|Zona Central|Zona Norte|Zona Oeste|Zona Sul|\n",
            "+---------------+------------+----------+----------+--------+\n",
            "|336149-TMGGYSKN|           0|         0|         1|       0|\n",
            "|846345-JYHIIHQM|           0|         1|         0|       0|\n",
            "|598128-VUMFFGPB|           0|         0|         0|       1|\n",
            "|368553-OPCVLPHJ|           0|         1|         0|       0|\n",
            "|549743-AXHKZBFK|           0|         0|         1|       0|\n",
            "|812359-OJYBIPJI|           0|         0|         0|       1|\n",
            "|660235-HZGMOQSM|           0|         0|         1|       0|\n",
            "|060113-BUDVVMLJ|           0|         0|         1|       0|\n",
            "|414450-LWZHERNQ|           0|         0|         1|       0|\n",
            "|002985-MNHDTPVG|           0|         0|         1|       0|\n",
            "|849580-WTTBUJKK|           0|         1|         0|       0|\n",
            "|869294-GMGUYRPI|           0|         0|         1|       0|\n",
            "|744421-IZJWISWB|           0|         0|         1|       0|\n",
            "|046476-NNUFIIVG|           0|         0|         1|       0|\n",
            "|626105-DOLRXIDZ|           0|         0|         0|       1|\n",
            "|863519-WWCECOZT|           0|         0|         1|       0|\n",
            "|529272-BGJLJSSR|           0|         0|         1|       0|\n",
            "|521324-MVDCUJPC|           0|         0|         1|       0|\n",
            "|650698-FDRGKLNW|           0|         0|         1|       0|\n",
            "|684301-OTOBDEKJ|           0|         0|         1|       0|\n",
            "+---------------+------------+----------+----------+--------+\n",
            "only showing top 20 rows\n",
            "\n"
          ]
        }
      ]
    },
    {
      "cell_type": "code",
      "source": [
        "unit = dataset\\\n",
        "    .groupby('customerID')\\\n",
        "    .pivot('unit')\\\n",
        "    .agg(f.lit(1))\\\n",
        "    .na.fill(0)"
      ],
      "metadata": {
        "id": "p2Rsejtt0ZVX"
      },
      "execution_count": null,
      "outputs": []
    },
    {
      "cell_type": "code",
      "source": [
        "unit.show()"
      ],
      "metadata": {
        "colab": {
          "base_uri": "https://localhost:8080/"
        },
        "id": "w0ifBzqm0kjm",
        "outputId": "d8e198ec-3875-464b-8ed0-a39a3b6c5c30"
      },
      "execution_count": null,
      "outputs": [
        {
          "output_type": "stream",
          "name": "stdout",
          "text": [
            "+---------------+-----------+----+------+\n",
            "|     customerID|Apartamento|Casa|Outros|\n",
            "+---------------+-----------+----+------+\n",
            "|062130-QKYMWGMV|          1|   0|     0|\n",
            "|630945-AEEUPRXI|          0|   1|     0|\n",
            "|994985-OZQNHQKH|          1|   0|     0|\n",
            "|494674-JWXRZIBM|          1|   0|     0|\n",
            "|458844-UJCRFSRI|          1|   0|     0|\n",
            "|155284-BRCDAOIQ|          1|   0|     0|\n",
            "|396742-DUXBHLRU|          1|   0|     0|\n",
            "|916072-ZJXARAXO|          1|   0|     0|\n",
            "|943843-BVTWWHRQ|          1|   0|     0|\n",
            "|193126-MTNIIFQN|          1|   0|     0|\n",
            "|319762-UXTTQYFS|          1|   0|     0|\n",
            "|931151-GZCTKADB|          1|   0|     0|\n",
            "|103840-OFKPFEZJ|          0|   1|     0|\n",
            "|176885-NNKZRQGM|          0|   1|     0|\n",
            "|926638-PBYRAZYR|          1|   0|     0|\n",
            "|744421-IZJWISWB|          1|   0|     0|\n",
            "|530012-TYGLQMER|          1|   0|     0|\n",
            "|209407-GTEUOVKR|          1|   0|     0|\n",
            "|289667-ZPHGFHJH|          1|   0|     0|\n",
            "|859388-EYTPMKER|          1|   0|     0|\n",
            "+---------------+-----------+----+------+\n",
            "only showing top 20 rows\n",
            "\n"
          ]
        }
      ]
    },
    {
      "cell_type": "markdown",
      "source": [
        "**Fazendo o join para juntar as colunas criadas com o meu dataset**"
      ],
      "metadata": {
        "id": "dASSiW2s0m9q"
      }
    },
    {
      "cell_type": "code",
      "source": [
        "dataset = dataset\\\n",
        "    .join(unit,'customerID', how='inner')\\\n",
        "    .join(zone,'customerID', how='inner')"
      ],
      "metadata": {
        "id": "tO4e--ry0sBm"
      },
      "execution_count": null,
      "outputs": []
    },
    {
      "cell_type": "code",
      "source": [
        "dataset.show()"
      ],
      "metadata": {
        "colab": {
          "base_uri": "https://localhost:8080/"
        },
        "id": "PgkZ9Nwl015N",
        "outputId": "b5cf35c3-8f34-494d-af31-34d319acdc85"
      },
      "execution_count": null,
      "outputs": [
        {
          "output_type": "stream",
          "name": "stdout",
          "text": [
            "+---------------+--------------------+------------+-----------+-----------+-------+-----+-----+---------+--------+------+-------------+------+---------+---------------+-----------+-----------+----+------+------------+----------+----------+--------+\n",
            "|     customerID|        neighborhood|        zone|       unit|      usage|  price|condo| iptu|bathrooms|bedrooms|floors|parkingSpaces|suites|unitFloor|unitsOnTheFloor|usableAreas|Apartamento|Casa|Outros|Zona Central|Zona Norte|Zona Oeste|Zona Sul|\n",
            "+---------------+--------------------+------------+-----------+-----------+-------+-----+-----+---------+--------+------+-------------+------+---------+---------------+-----------+-----------+----+------+------------+----------+----------+--------+\n",
            "|775564-BOJSMVON|             Taquara|  Zona Oeste|     Outros|Residencial|45000.0|150.0|  0.0|        0|       0|     0|            1|     0|        0|              0|         62|          0|   0|     1|           0|         0|         1|       0|\n",
            "|660895-AUENKNYY|          Santíssimo|  Zona Oeste|Apartamento|Residencial|45000.0|120.0|  0.0|        1|       2|     0|            1|     0|        0|              0|         44|          1|   0|     0|           0|         0|         1|       0|\n",
            "|751522-JESYFEQL|  Pedra de Guaratiba|  Zona Oeste|     Outros|Residencial|50000.0|100.0|  0.0|        0|       0|     0|            0|     0|        0|              0|        132|          0|   0|     1|           0|         0|         1|       0|\n",
            "|568886-ZIBFOMCC|Recreio dos Bande...|  Zona Oeste|Apartamento|Residencial|50000.0|400.0|120.0|        2|       3|     3|            1|     1|        2|              4|         60|          1|   0|     0|           0|         0|         1|       0|\n",
            "|526755-OBLTYTEN|           Guaratiba|  Zona Oeste|     Outros|Residencial|50000.0|  0.0|  0.0|        0|       0|     0|            0|     0|        0|              0|        200|          0|   0|     1|           0|         0|         1|       0|\n",
            "|792086-NWNQTDYL|         Jacarezinho|  Zona Norte|Apartamento|Residencial|45336.0|  0.0|  0.0|        1|       1|     0|            1|     0|        0|              0|         33|          1|   0|     0|           0|         1|         0|       0|\n",
            "|339622-MNZGLKTZ|           Guaratiba|  Zona Oeste|     Outros|Residencial|45000.0|  0.0|  0.0|        0|       0|     0|            0|     0|        0|              0|        120|          0|   0|     1|           0|         0|         1|       0|\n",
            "|952338-SVULQMXR|          Santa Cruz|  Zona Oeste|     Outros|Residencial|45000.0|  0.0|  0.0|        0|       0|     0|            0|     0|        0|              0|        468|          0|   0|     1|           0|         0|         1|       0|\n",
            "|570439-LDICQOXZ|       Vargem Grande|  Zona Oeste|     Outros|Residencial|50000.0|  0.0|  0.0|        0|       0|     0|            0|     0|        1|              0|        180|          0|   0|     1|           0|         0|         1|       0|\n",
            "|684023-YTBNKLLO|               Bangu|  Zona Oeste|     Outros|Residencial|50000.0|  0.0|  0.0|        0|       0|     0|            0|     0|        0|              0|        128|          0|   0|     1|           0|         0|         1|       0|\n",
            "|629412-VKUMMAVR|              Tanque|  Zona Oeste|     Outros|Residencial|45000.0|300.0|  0.0|        0|       0|     0|            0|     0|        1|              0|         82|          0|   0|     1|           0|         0|         1|       0|\n",
            "|951104-MACIAPIS|        Santo Cristo|Zona Central|Apartamento|Residencial|45000.0|350.0|120.0|        2|       3|    20|            1|     1|       20|             19|         70|          1|   0|     0|           1|         0|         0|       0|\n",
            "|375665-GHMFEZXX|        Santo Cristo|Zona Central|Apartamento|Residencial|50000.0|350.0|120.0|        2|       3|    20|            1|     1|       20|             19|         70|          1|   0|     0|           1|         0|         0|       0|\n",
            "|441711-LRTWHRUA|  Pedra de Guaratiba|  Zona Oeste|Apartamento|Residencial|50000.0|  0.0|  0.0|        1|       1|     0|            0|     0|        2|              0|         37|          1|   0|     0|           0|         0|         1|       0|\n",
            "|221946-ENAQETGD|           Guaratiba|  Zona Oeste|     Outros|Residencial|45020.0|  0.0|  0.0|        0|       0|     0|            0|     0|        0|              0|        120|          0|   0|     1|           0|         0|         1|       0|\n",
            "|023787-PTASXXTL|           Guaratiba|  Zona Oeste|     Outros|Residencial|45040.0|  0.0|  0.0|        0|       0|     0|            0|     0|        0|              0|        120|          0|   0|     1|           0|         0|         1|       0|\n",
            "|385687-SWOBLUWG|          Santa Cruz|  Zona Oeste|     Outros|Residencial|45000.0|  0.0|  0.0|        0|       0|     0|            0|     0|        0|              0|        150|          0|   0|     1|           0|         0|         1|       0|\n",
            "|037953-VZOABKON|         Coelho Neto|  Zona Norte|Apartamento|Residencial|45000.0|  0.0|  0.0|        1|       2|     0|            1|     0|        0|              0|         30|          1|   0|     0|           0|         1|         0|       0|\n",
            "|913561-GIAMXOYU|           Guaratiba|  Zona Oeste|     Outros|Residencial|45000.0|  0.0|  0.0|        0|       0|     0|            0|     0|        0|              0|        128|          0|   0|     1|           0|         0|         1|       0|\n",
            "|511928-EYKXPKBU|           Guaratiba|  Zona Oeste|     Outros|Residencial|45070.0|  0.0|  0.0|        0|       0|     0|            0|     0|        0|              0|        120|          0|   0|     1|           0|         0|         1|       0|\n",
            "+---------------+--------------------+------------+-----------+-----------+-------+-----+-----+---------+--------+------+-------------+------+---------+---------------+-----------+-----------+----+------+------------+----------+----------+--------+\n",
            "only showing top 20 rows\n",
            "\n"
          ]
        }
      ]
    },
    {
      "cell_type": "markdown",
      "source": [
        "**Vetorizando os dados**\n",
        "\n",
        "Significa que vou pegar todas as colunas do meu dataset e transformar elas em um unico vetor e é com esse vetor que as funções do spark vão trabalhar."
      ],
      "metadata": {
        "id": "2bSTnx8d09x9"
      }
    },
    {
      "cell_type": "code",
      "source": [
        "# importar o objeto que faz a vetorização\n",
        "\n",
        "from pyspark.ml.feature import VectorAssembler"
      ],
      "metadata": {
        "id": "6hAxynnk1AE8"
      },
      "execution_count": null,
      "outputs": []
    },
    {
      "cell_type": "code",
      "source": [
        "# mudando a variavel dependente para a nomeclatura que o spark espera que é, label\n",
        "\n",
        "dataset = dataset.withColumnRenamed('price','label')"
      ],
      "metadata": {
        "id": "zDU8RpzQ1Tt8"
      },
      "execution_count": null,
      "outputs": []
    },
    {
      "cell_type": "code",
      "source": [
        "X = [\n",
        "    'condo',\n",
        "    'iptu',\n",
        "    'bathrooms',\n",
        "    'bedrooms',\n",
        "    'floors',\n",
        "    'parkingSpaces',\n",
        "    'suites',\n",
        "    'unitFloor',\n",
        "    'unitsOnTheFloor',\n",
        "    'usableAreas',\n",
        "    'Apartamento',\n",
        "    'Casa',\n",
        "    'Outros',\n",
        "    'Zona Central',\n",
        "    'Zona Norte',\n",
        "    'Zona Oeste',\n",
        "    'Zona Sul'\n",
        "]"
      ],
      "metadata": {
        "id": "kXDfbDwF1fEv"
      },
      "execution_count": null,
      "outputs": []
    },
    {
      "cell_type": "code",
      "source": [
        "# para fazer a vetorização, usaremos o objeto assembler e ele espera receber quais\n",
        "# colunas desejamos trabalhar e as transformará em um nome específico. Esse nome\n",
        "# será features, porque é o nome que as funções do Spark esperam receber.\n",
        "\n",
        "assembler = VectorAssembler(inputCols=X, outputCol='features')"
      ],
      "metadata": {
        "id": "Md0l2y3C1Y6_"
      },
      "execution_count": null,
      "outputs": []
    },
    {
      "cell_type": "code",
      "source": [
        "# para fazer as modificações vou criar um novo dataser e usar o objeto assembler.transformer\n",
        "# colocar o meu dataset antigo e selecionar o que ele vai ter, qual vai ser o X e qual vai ser\n",
        "# o y, ou como o spark espera receber, quais são os features e quais são os label\n",
        "\n",
        "dataset_rep = assembler.transform(dataset).select('features','label')"
      ],
      "metadata": {
        "id": "tnAbr88H2GCJ"
      },
      "execution_count": null,
      "outputs": []
    },
    {
      "cell_type": "code",
      "source": [
        "dataset_rep.show(truncate=False)"
      ],
      "metadata": {
        "colab": {
          "base_uri": "https://localhost:8080/"
        },
        "id": "hw7L-M472QH4",
        "outputId": "e139b8d2-7237-42ea-8b52-bcc8cd218e6b"
      },
      "execution_count": null,
      "outputs": [
        {
          "output_type": "stream",
          "name": "stdout",
          "text": [
            "+-----------------------------------------------------------------------------+-------+\n",
            "|features                                                                     |label  |\n",
            "+-----------------------------------------------------------------------------+-------+\n",
            "|(17,[0,5,9,12,15],[150.0,1.0,62.0,1.0,1.0])                                  |45000.0|\n",
            "|(17,[0,2,3,5,9,10,15],[120.0,1.0,2.0,1.0,44.0,1.0,1.0])                      |45000.0|\n",
            "|(17,[0,9,12,15],[100.0,132.0,1.0,1.0])                                       |50000.0|\n",
            "|[400.0,120.0,2.0,3.0,3.0,1.0,1.0,2.0,4.0,60.0,1.0,0.0,0.0,0.0,0.0,1.0,0.0]   |50000.0|\n",
            "|(17,[9,12,15],[200.0,1.0,1.0])                                               |50000.0|\n",
            "|(17,[2,3,5,9,10,14],[1.0,1.0,1.0,33.0,1.0,1.0])                              |45336.0|\n",
            "|(17,[9,12,15],[120.0,1.0,1.0])                                               |45000.0|\n",
            "|(17,[9,12,15],[468.0,1.0,1.0])                                               |45000.0|\n",
            "|(17,[7,9,12,15],[1.0,180.0,1.0,1.0])                                         |50000.0|\n",
            "|(17,[9,12,15],[128.0,1.0,1.0])                                               |50000.0|\n",
            "|(17,[0,7,9,12,15],[300.0,1.0,82.0,1.0,1.0])                                  |45000.0|\n",
            "|[350.0,120.0,2.0,3.0,20.0,1.0,1.0,20.0,19.0,70.0,1.0,0.0,0.0,1.0,0.0,0.0,0.0]|45000.0|\n",
            "|[350.0,120.0,2.0,3.0,20.0,1.0,1.0,20.0,19.0,70.0,1.0,0.0,0.0,1.0,0.0,0.0,0.0]|50000.0|\n",
            "|(17,[2,3,7,9,10,15],[1.0,1.0,2.0,37.0,1.0,1.0])                              |50000.0|\n",
            "|(17,[9,12,15],[120.0,1.0,1.0])                                               |45020.0|\n",
            "|(17,[9,12,15],[120.0,1.0,1.0])                                               |45040.0|\n",
            "|(17,[9,12,15],[150.0,1.0,1.0])                                               |45000.0|\n",
            "|(17,[2,3,5,9,10,14],[1.0,2.0,1.0,30.0,1.0,1.0])                              |45000.0|\n",
            "|(17,[9,12,15],[128.0,1.0,1.0])                                               |45000.0|\n",
            "|(17,[9,12,15],[120.0,1.0,1.0])                                               |45070.0|\n",
            "+-----------------------------------------------------------------------------+-------+\n",
            "only showing top 20 rows\n",
            "\n"
          ]
        }
      ]
    },
    {
      "cell_type": "markdown",
      "source": [
        "**Explorando os Dados**"
      ],
      "metadata": {
        "id": "Nq1jq-gE2d81"
      }
    },
    {
      "cell_type": "markdown",
      "source": [
        "**Correlação entre os dados**"
      ],
      "metadata": {
        "id": "iVDAKbu-2XW4"
      }
    },
    {
      "cell_type": "code",
      "source": [
        "# importando a biblioteca que faz a correlação entre as variaveis\n",
        "\n",
        "from pyspark.ml.stat import Correlation\n",
        "import pandas as pd\n",
        "import matplotlib.pyplot as plt\n",
        "import seaborn as sns"
      ],
      "metadata": {
        "id": "9zdRoQAR2VAy"
      },
      "execution_count": null,
      "outputs": []
    },
    {
      "cell_type": "code",
      "source": [
        "# O Correlation.corr vai gerar a matriz de correlação, eu preciso passar para ela\n",
        "# o dataset vetorizado, e o .collect() serve para trazer o resultado disso para\n",
        "# dentro do objeto de correlação\n",
        "\n",
        "correlacao = Correlation.corr(dataset_rep, 'features').collect()[0][0]"
      ],
      "metadata": {
        "id": "G3hyqNq_2r1v"
      },
      "execution_count": null,
      "outputs": []
    },
    {
      "cell_type": "code",
      "source": [
        "# criando um dataframe do pandas, passando essa correlação toArray(), nas\n",
        "# colunas X e index X, ai vai ficar todas as colunas iguais e todas as linhas iguas\n",
        "\n",
        "dataframe_correlacao = pd.DataFrame(correlacao.toArray(), columns=X, index=X)"
      ],
      "metadata": {
        "id": "lD6w7Wmq24FN"
      },
      "execution_count": null,
      "outputs": []
    },
    {
      "cell_type": "code",
      "source": [
        "dataframe_correlacao"
      ],
      "metadata": {
        "colab": {
          "base_uri": "https://localhost:8080/",
          "height": 620
        },
        "id": "ArUR2vh22yXS",
        "outputId": "9d463c64-77f7-4fbf-f176-599d1f33890f"
      },
      "execution_count": null,
      "outputs": [
        {
          "output_type": "execute_result",
          "data": {
            "text/plain": [
              "                    condo      iptu  bathrooms  bedrooms    floors  \\\n",
              "condo            1.000000  0.226212   0.020030  0.018482  0.013797   \n",
              "iptu             0.226212  1.000000   0.015102  0.013639  0.006688   \n",
              "bathrooms        0.020030  0.015102   1.000000  0.665911 -0.044591   \n",
              "bedrooms         0.018482  0.013639   0.665911  1.000000 -0.082184   \n",
              "floors           0.013797  0.006688  -0.044591 -0.082184  1.000000   \n",
              "parkingSpaces    0.018012  0.009721   0.487590  0.467161 -0.048486   \n",
              "suites           0.023461  0.019093   0.752928  0.601199 -0.048106   \n",
              "unitFloor        0.003065  0.001200   0.007624 -0.007162  0.120982   \n",
              "unitsOnTheFloor -0.000554  0.005029  -0.107437 -0.130814  0.737717   \n",
              "usableAreas      0.019717  0.014656   0.598073  0.563750 -0.103917   \n",
              "Apartamento      0.009105 -0.001502  -0.275458 -0.258339  0.153947   \n",
              "Casa            -0.008624  0.002291   0.343042  0.349962 -0.142090   \n",
              "Outros          -0.002495 -0.001870  -0.140183 -0.205608 -0.051946   \n",
              "Zona Central    -0.003553 -0.002438  -0.097368 -0.123732  0.126044   \n",
              "Zona Norte      -0.013453 -0.008400  -0.162497 -0.111712 -0.016926   \n",
              "Zona Oeste      -0.001055 -0.000428   0.242345  0.163822 -0.031750   \n",
              "Zona Sul         0.014474  0.008835  -0.098752 -0.049433  0.017402   \n",
              "\n",
              "                 parkingSpaces    suites  unitFloor  unitsOnTheFloor  \\\n",
              "condo                 0.018012  0.023461   0.003065        -0.000554   \n",
              "iptu                  0.009721  0.019093   0.001200         0.005029   \n",
              "bathrooms             0.487590  0.752928   0.007624        -0.107437   \n",
              "bedrooms              0.467161  0.601199  -0.007162        -0.130814   \n",
              "floors               -0.048486 -0.048106   0.120982         0.737717   \n",
              "parkingSpaces         1.000000  0.484988   0.003768        -0.074527   \n",
              "suites                0.484988  1.000000   0.005206        -0.091914   \n",
              "unitFloor             0.003768  0.005206   1.000000         0.092359   \n",
              "unitsOnTheFloor      -0.074527 -0.091914   0.092359         1.000000   \n",
              "usableAreas           0.483732  0.577636  -0.012748        -0.144222   \n",
              "Apartamento          -0.252746 -0.236217   0.034674         0.147497   \n",
              "Casa                  0.293326  0.282221  -0.031403        -0.137754   \n",
              "Outros               -0.072359 -0.088834  -0.013275        -0.045523   \n",
              "Zona Central         -0.086437 -0.084417   0.022315         0.153639   \n",
              "Zona Norte           -0.109957 -0.230317  -0.011112         0.030753   \n",
              "Zona Oeste            0.267990  0.327546   0.007518        -0.012434   \n",
              "Zona Sul             -0.178807 -0.136398  -0.004333        -0.055540   \n",
              "\n",
              "                 usableAreas  Apartamento      Casa    Outros  Zona Central  \\\n",
              "condo               0.019717     0.009105 -0.008624 -0.002495     -0.003553   \n",
              "iptu                0.014656    -0.001502  0.002291 -0.001870     -0.002438   \n",
              "bathrooms           0.598073    -0.275458  0.343042 -0.140183     -0.097368   \n",
              "bedrooms            0.563750    -0.258339  0.349962 -0.205608     -0.123732   \n",
              "floors             -0.103917     0.153947 -0.142090 -0.051946      0.126044   \n",
              "parkingSpaces       0.483732    -0.252746  0.293326 -0.072359     -0.086437   \n",
              "suites              0.577636    -0.236217  0.282221 -0.088834     -0.084417   \n",
              "unitFloor          -0.012748     0.034674 -0.031403 -0.013275      0.022315   \n",
              "unitsOnTheFloor    -0.144222     0.147497 -0.137754 -0.045523      0.153639   \n",
              "usableAreas         1.000000    -0.482170  0.459136  0.125672     -0.075256   \n",
              "Apartamento        -0.482170     1.000000 -0.932270 -0.313032      0.034073   \n",
              "Casa                0.459136    -0.932270  1.000000 -0.051751     -0.041823   \n",
              "Outros              0.125672    -0.313032 -0.051751  1.000000      0.015738   \n",
              "Zona Central       -0.075256     0.034073 -0.041823  0.015738      1.000000   \n",
              "Zona Norte         -0.158553     0.010312 -0.007961 -0.007568     -0.061835   \n",
              "Zona Oeste          0.192466    -0.176033  0.178640  0.016960     -0.123834   \n",
              "Zona Sul           -0.051962     0.180288 -0.183298 -0.016476     -0.073014   \n",
              "\n",
              "                 Zona Norte  Zona Oeste  Zona Sul  \n",
              "condo             -0.013453   -0.001055  0.014474  \n",
              "iptu              -0.008400   -0.000428  0.008835  \n",
              "bathrooms         -0.162497    0.242345 -0.098752  \n",
              "bedrooms          -0.111712    0.163822 -0.049433  \n",
              "floors            -0.016926   -0.031750  0.017402  \n",
              "parkingSpaces     -0.109957    0.267990 -0.178807  \n",
              "suites            -0.230317    0.327546 -0.136398  \n",
              "unitFloor         -0.011112    0.007518 -0.004333  \n",
              "unitsOnTheFloor    0.030753   -0.012434 -0.055540  \n",
              "usableAreas       -0.158553    0.192466 -0.051962  \n",
              "Apartamento        0.010312   -0.176033  0.180288  \n",
              "Casa              -0.007961    0.178640 -0.183298  \n",
              "Outros            -0.007568    0.016960 -0.016476  \n",
              "Zona Central      -0.061835   -0.123834 -0.073014  \n",
              "Zona Norte         1.000000   -0.522996 -0.308366  \n",
              "Zona Oeste        -0.522996    1.000000 -0.617551  \n",
              "Zona Sul          -0.308366   -0.617551  1.000000  "
            ],
            "text/html": [
              "\n",
              "  <div id=\"df-c2d4ea01-b249-41d1-ad80-9de388862119\" class=\"colab-df-container\">\n",
              "    <div>\n",
              "<style scoped>\n",
              "    .dataframe tbody tr th:only-of-type {\n",
              "        vertical-align: middle;\n",
              "    }\n",
              "\n",
              "    .dataframe tbody tr th {\n",
              "        vertical-align: top;\n",
              "    }\n",
              "\n",
              "    .dataframe thead th {\n",
              "        text-align: right;\n",
              "    }\n",
              "</style>\n",
              "<table border=\"1\" class=\"dataframe\">\n",
              "  <thead>\n",
              "    <tr style=\"text-align: right;\">\n",
              "      <th></th>\n",
              "      <th>condo</th>\n",
              "      <th>iptu</th>\n",
              "      <th>bathrooms</th>\n",
              "      <th>bedrooms</th>\n",
              "      <th>floors</th>\n",
              "      <th>parkingSpaces</th>\n",
              "      <th>suites</th>\n",
              "      <th>unitFloor</th>\n",
              "      <th>unitsOnTheFloor</th>\n",
              "      <th>usableAreas</th>\n",
              "      <th>Apartamento</th>\n",
              "      <th>Casa</th>\n",
              "      <th>Outros</th>\n",
              "      <th>Zona Central</th>\n",
              "      <th>Zona Norte</th>\n",
              "      <th>Zona Oeste</th>\n",
              "      <th>Zona Sul</th>\n",
              "    </tr>\n",
              "  </thead>\n",
              "  <tbody>\n",
              "    <tr>\n",
              "      <th>condo</th>\n",
              "      <td>1.000000</td>\n",
              "      <td>0.226212</td>\n",
              "      <td>0.020030</td>\n",
              "      <td>0.018482</td>\n",
              "      <td>0.013797</td>\n",
              "      <td>0.018012</td>\n",
              "      <td>0.023461</td>\n",
              "      <td>0.003065</td>\n",
              "      <td>-0.000554</td>\n",
              "      <td>0.019717</td>\n",
              "      <td>0.009105</td>\n",
              "      <td>-0.008624</td>\n",
              "      <td>-0.002495</td>\n",
              "      <td>-0.003553</td>\n",
              "      <td>-0.013453</td>\n",
              "      <td>-0.001055</td>\n",
              "      <td>0.014474</td>\n",
              "    </tr>\n",
              "    <tr>\n",
              "      <th>iptu</th>\n",
              "      <td>0.226212</td>\n",
              "      <td>1.000000</td>\n",
              "      <td>0.015102</td>\n",
              "      <td>0.013639</td>\n",
              "      <td>0.006688</td>\n",
              "      <td>0.009721</td>\n",
              "      <td>0.019093</td>\n",
              "      <td>0.001200</td>\n",
              "      <td>0.005029</td>\n",
              "      <td>0.014656</td>\n",
              "      <td>-0.001502</td>\n",
              "      <td>0.002291</td>\n",
              "      <td>-0.001870</td>\n",
              "      <td>-0.002438</td>\n",
              "      <td>-0.008400</td>\n",
              "      <td>-0.000428</td>\n",
              "      <td>0.008835</td>\n",
              "    </tr>\n",
              "    <tr>\n",
              "      <th>bathrooms</th>\n",
              "      <td>0.020030</td>\n",
              "      <td>0.015102</td>\n",
              "      <td>1.000000</td>\n",
              "      <td>0.665911</td>\n",
              "      <td>-0.044591</td>\n",
              "      <td>0.487590</td>\n",
              "      <td>0.752928</td>\n",
              "      <td>0.007624</td>\n",
              "      <td>-0.107437</td>\n",
              "      <td>0.598073</td>\n",
              "      <td>-0.275458</td>\n",
              "      <td>0.343042</td>\n",
              "      <td>-0.140183</td>\n",
              "      <td>-0.097368</td>\n",
              "      <td>-0.162497</td>\n",
              "      <td>0.242345</td>\n",
              "      <td>-0.098752</td>\n",
              "    </tr>\n",
              "    <tr>\n",
              "      <th>bedrooms</th>\n",
              "      <td>0.018482</td>\n",
              "      <td>0.013639</td>\n",
              "      <td>0.665911</td>\n",
              "      <td>1.000000</td>\n",
              "      <td>-0.082184</td>\n",
              "      <td>0.467161</td>\n",
              "      <td>0.601199</td>\n",
              "      <td>-0.007162</td>\n",
              "      <td>-0.130814</td>\n",
              "      <td>0.563750</td>\n",
              "      <td>-0.258339</td>\n",
              "      <td>0.349962</td>\n",
              "      <td>-0.205608</td>\n",
              "      <td>-0.123732</td>\n",
              "      <td>-0.111712</td>\n",
              "      <td>0.163822</td>\n",
              "      <td>-0.049433</td>\n",
              "    </tr>\n",
              "    <tr>\n",
              "      <th>floors</th>\n",
              "      <td>0.013797</td>\n",
              "      <td>0.006688</td>\n",
              "      <td>-0.044591</td>\n",
              "      <td>-0.082184</td>\n",
              "      <td>1.000000</td>\n",
              "      <td>-0.048486</td>\n",
              "      <td>-0.048106</td>\n",
              "      <td>0.120982</td>\n",
              "      <td>0.737717</td>\n",
              "      <td>-0.103917</td>\n",
              "      <td>0.153947</td>\n",
              "      <td>-0.142090</td>\n",
              "      <td>-0.051946</td>\n",
              "      <td>0.126044</td>\n",
              "      <td>-0.016926</td>\n",
              "      <td>-0.031750</td>\n",
              "      <td>0.017402</td>\n",
              "    </tr>\n",
              "    <tr>\n",
              "      <th>parkingSpaces</th>\n",
              "      <td>0.018012</td>\n",
              "      <td>0.009721</td>\n",
              "      <td>0.487590</td>\n",
              "      <td>0.467161</td>\n",
              "      <td>-0.048486</td>\n",
              "      <td>1.000000</td>\n",
              "      <td>0.484988</td>\n",
              "      <td>0.003768</td>\n",
              "      <td>-0.074527</td>\n",
              "      <td>0.483732</td>\n",
              "      <td>-0.252746</td>\n",
              "      <td>0.293326</td>\n",
              "      <td>-0.072359</td>\n",
              "      <td>-0.086437</td>\n",
              "      <td>-0.109957</td>\n",
              "      <td>0.267990</td>\n",
              "      <td>-0.178807</td>\n",
              "    </tr>\n",
              "    <tr>\n",
              "      <th>suites</th>\n",
              "      <td>0.023461</td>\n",
              "      <td>0.019093</td>\n",
              "      <td>0.752928</td>\n",
              "      <td>0.601199</td>\n",
              "      <td>-0.048106</td>\n",
              "      <td>0.484988</td>\n",
              "      <td>1.000000</td>\n",
              "      <td>0.005206</td>\n",
              "      <td>-0.091914</td>\n",
              "      <td>0.577636</td>\n",
              "      <td>-0.236217</td>\n",
              "      <td>0.282221</td>\n",
              "      <td>-0.088834</td>\n",
              "      <td>-0.084417</td>\n",
              "      <td>-0.230317</td>\n",
              "      <td>0.327546</td>\n",
              "      <td>-0.136398</td>\n",
              "    </tr>\n",
              "    <tr>\n",
              "      <th>unitFloor</th>\n",
              "      <td>0.003065</td>\n",
              "      <td>0.001200</td>\n",
              "      <td>0.007624</td>\n",
              "      <td>-0.007162</td>\n",
              "      <td>0.120982</td>\n",
              "      <td>0.003768</td>\n",
              "      <td>0.005206</td>\n",
              "      <td>1.000000</td>\n",
              "      <td>0.092359</td>\n",
              "      <td>-0.012748</td>\n",
              "      <td>0.034674</td>\n",
              "      <td>-0.031403</td>\n",
              "      <td>-0.013275</td>\n",
              "      <td>0.022315</td>\n",
              "      <td>-0.011112</td>\n",
              "      <td>0.007518</td>\n",
              "      <td>-0.004333</td>\n",
              "    </tr>\n",
              "    <tr>\n",
              "      <th>unitsOnTheFloor</th>\n",
              "      <td>-0.000554</td>\n",
              "      <td>0.005029</td>\n",
              "      <td>-0.107437</td>\n",
              "      <td>-0.130814</td>\n",
              "      <td>0.737717</td>\n",
              "      <td>-0.074527</td>\n",
              "      <td>-0.091914</td>\n",
              "      <td>0.092359</td>\n",
              "      <td>1.000000</td>\n",
              "      <td>-0.144222</td>\n",
              "      <td>0.147497</td>\n",
              "      <td>-0.137754</td>\n",
              "      <td>-0.045523</td>\n",
              "      <td>0.153639</td>\n",
              "      <td>0.030753</td>\n",
              "      <td>-0.012434</td>\n",
              "      <td>-0.055540</td>\n",
              "    </tr>\n",
              "    <tr>\n",
              "      <th>usableAreas</th>\n",
              "      <td>0.019717</td>\n",
              "      <td>0.014656</td>\n",
              "      <td>0.598073</td>\n",
              "      <td>0.563750</td>\n",
              "      <td>-0.103917</td>\n",
              "      <td>0.483732</td>\n",
              "      <td>0.577636</td>\n",
              "      <td>-0.012748</td>\n",
              "      <td>-0.144222</td>\n",
              "      <td>1.000000</td>\n",
              "      <td>-0.482170</td>\n",
              "      <td>0.459136</td>\n",
              "      <td>0.125672</td>\n",
              "      <td>-0.075256</td>\n",
              "      <td>-0.158553</td>\n",
              "      <td>0.192466</td>\n",
              "      <td>-0.051962</td>\n",
              "    </tr>\n",
              "    <tr>\n",
              "      <th>Apartamento</th>\n",
              "      <td>0.009105</td>\n",
              "      <td>-0.001502</td>\n",
              "      <td>-0.275458</td>\n",
              "      <td>-0.258339</td>\n",
              "      <td>0.153947</td>\n",
              "      <td>-0.252746</td>\n",
              "      <td>-0.236217</td>\n",
              "      <td>0.034674</td>\n",
              "      <td>0.147497</td>\n",
              "      <td>-0.482170</td>\n",
              "      <td>1.000000</td>\n",
              "      <td>-0.932270</td>\n",
              "      <td>-0.313032</td>\n",
              "      <td>0.034073</td>\n",
              "      <td>0.010312</td>\n",
              "      <td>-0.176033</td>\n",
              "      <td>0.180288</td>\n",
              "    </tr>\n",
              "    <tr>\n",
              "      <th>Casa</th>\n",
              "      <td>-0.008624</td>\n",
              "      <td>0.002291</td>\n",
              "      <td>0.343042</td>\n",
              "      <td>0.349962</td>\n",
              "      <td>-0.142090</td>\n",
              "      <td>0.293326</td>\n",
              "      <td>0.282221</td>\n",
              "      <td>-0.031403</td>\n",
              "      <td>-0.137754</td>\n",
              "      <td>0.459136</td>\n",
              "      <td>-0.932270</td>\n",
              "      <td>1.000000</td>\n",
              "      <td>-0.051751</td>\n",
              "      <td>-0.041823</td>\n",
              "      <td>-0.007961</td>\n",
              "      <td>0.178640</td>\n",
              "      <td>-0.183298</td>\n",
              "    </tr>\n",
              "    <tr>\n",
              "      <th>Outros</th>\n",
              "      <td>-0.002495</td>\n",
              "      <td>-0.001870</td>\n",
              "      <td>-0.140183</td>\n",
              "      <td>-0.205608</td>\n",
              "      <td>-0.051946</td>\n",
              "      <td>-0.072359</td>\n",
              "      <td>-0.088834</td>\n",
              "      <td>-0.013275</td>\n",
              "      <td>-0.045523</td>\n",
              "      <td>0.125672</td>\n",
              "      <td>-0.313032</td>\n",
              "      <td>-0.051751</td>\n",
              "      <td>1.000000</td>\n",
              "      <td>0.015738</td>\n",
              "      <td>-0.007568</td>\n",
              "      <td>0.016960</td>\n",
              "      <td>-0.016476</td>\n",
              "    </tr>\n",
              "    <tr>\n",
              "      <th>Zona Central</th>\n",
              "      <td>-0.003553</td>\n",
              "      <td>-0.002438</td>\n",
              "      <td>-0.097368</td>\n",
              "      <td>-0.123732</td>\n",
              "      <td>0.126044</td>\n",
              "      <td>-0.086437</td>\n",
              "      <td>-0.084417</td>\n",
              "      <td>0.022315</td>\n",
              "      <td>0.153639</td>\n",
              "      <td>-0.075256</td>\n",
              "      <td>0.034073</td>\n",
              "      <td>-0.041823</td>\n",
              "      <td>0.015738</td>\n",
              "      <td>1.000000</td>\n",
              "      <td>-0.061835</td>\n",
              "      <td>-0.123834</td>\n",
              "      <td>-0.073014</td>\n",
              "    </tr>\n",
              "    <tr>\n",
              "      <th>Zona Norte</th>\n",
              "      <td>-0.013453</td>\n",
              "      <td>-0.008400</td>\n",
              "      <td>-0.162497</td>\n",
              "      <td>-0.111712</td>\n",
              "      <td>-0.016926</td>\n",
              "      <td>-0.109957</td>\n",
              "      <td>-0.230317</td>\n",
              "      <td>-0.011112</td>\n",
              "      <td>0.030753</td>\n",
              "      <td>-0.158553</td>\n",
              "      <td>0.010312</td>\n",
              "      <td>-0.007961</td>\n",
              "      <td>-0.007568</td>\n",
              "      <td>-0.061835</td>\n",
              "      <td>1.000000</td>\n",
              "      <td>-0.522996</td>\n",
              "      <td>-0.308366</td>\n",
              "    </tr>\n",
              "    <tr>\n",
              "      <th>Zona Oeste</th>\n",
              "      <td>-0.001055</td>\n",
              "      <td>-0.000428</td>\n",
              "      <td>0.242345</td>\n",
              "      <td>0.163822</td>\n",
              "      <td>-0.031750</td>\n",
              "      <td>0.267990</td>\n",
              "      <td>0.327546</td>\n",
              "      <td>0.007518</td>\n",
              "      <td>-0.012434</td>\n",
              "      <td>0.192466</td>\n",
              "      <td>-0.176033</td>\n",
              "      <td>0.178640</td>\n",
              "      <td>0.016960</td>\n",
              "      <td>-0.123834</td>\n",
              "      <td>-0.522996</td>\n",
              "      <td>1.000000</td>\n",
              "      <td>-0.617551</td>\n",
              "    </tr>\n",
              "    <tr>\n",
              "      <th>Zona Sul</th>\n",
              "      <td>0.014474</td>\n",
              "      <td>0.008835</td>\n",
              "      <td>-0.098752</td>\n",
              "      <td>-0.049433</td>\n",
              "      <td>0.017402</td>\n",
              "      <td>-0.178807</td>\n",
              "      <td>-0.136398</td>\n",
              "      <td>-0.004333</td>\n",
              "      <td>-0.055540</td>\n",
              "      <td>-0.051962</td>\n",
              "      <td>0.180288</td>\n",
              "      <td>-0.183298</td>\n",
              "      <td>-0.016476</td>\n",
              "      <td>-0.073014</td>\n",
              "      <td>-0.308366</td>\n",
              "      <td>-0.617551</td>\n",
              "      <td>1.000000</td>\n",
              "    </tr>\n",
              "  </tbody>\n",
              "</table>\n",
              "</div>\n",
              "    <div class=\"colab-df-buttons\">\n",
              "\n",
              "  <div class=\"colab-df-container\">\n",
              "    <button class=\"colab-df-convert\" onclick=\"convertToInteractive('df-c2d4ea01-b249-41d1-ad80-9de388862119')\"\n",
              "            title=\"Convert this dataframe to an interactive table.\"\n",
              "            style=\"display:none;\">\n",
              "\n",
              "  <svg xmlns=\"http://www.w3.org/2000/svg\" height=\"24px\" viewBox=\"0 -960 960 960\">\n",
              "    <path d=\"M120-120v-720h720v720H120Zm60-500h600v-160H180v160Zm220 220h160v-160H400v160Zm0 220h160v-160H400v160ZM180-400h160v-160H180v160Zm440 0h160v-160H620v160ZM180-180h160v-160H180v160Zm440 0h160v-160H620v160Z\"/>\n",
              "  </svg>\n",
              "    </button>\n",
              "\n",
              "  <style>\n",
              "    .colab-df-container {\n",
              "      display:flex;\n",
              "      gap: 12px;\n",
              "    }\n",
              "\n",
              "    .colab-df-convert {\n",
              "      background-color: #E8F0FE;\n",
              "      border: none;\n",
              "      border-radius: 50%;\n",
              "      cursor: pointer;\n",
              "      display: none;\n",
              "      fill: #1967D2;\n",
              "      height: 32px;\n",
              "      padding: 0 0 0 0;\n",
              "      width: 32px;\n",
              "    }\n",
              "\n",
              "    .colab-df-convert:hover {\n",
              "      background-color: #E2EBFA;\n",
              "      box-shadow: 0px 1px 2px rgba(60, 64, 67, 0.3), 0px 1px 3px 1px rgba(60, 64, 67, 0.15);\n",
              "      fill: #174EA6;\n",
              "    }\n",
              "\n",
              "    .colab-df-buttons div {\n",
              "      margin-bottom: 4px;\n",
              "    }\n",
              "\n",
              "    [theme=dark] .colab-df-convert {\n",
              "      background-color: #3B4455;\n",
              "      fill: #D2E3FC;\n",
              "    }\n",
              "\n",
              "    [theme=dark] .colab-df-convert:hover {\n",
              "      background-color: #434B5C;\n",
              "      box-shadow: 0px 1px 3px 1px rgba(0, 0, 0, 0.15);\n",
              "      filter: drop-shadow(0px 1px 2px rgba(0, 0, 0, 0.3));\n",
              "      fill: #FFFFFF;\n",
              "    }\n",
              "  </style>\n",
              "\n",
              "    <script>\n",
              "      const buttonEl =\n",
              "        document.querySelector('#df-c2d4ea01-b249-41d1-ad80-9de388862119 button.colab-df-convert');\n",
              "      buttonEl.style.display =\n",
              "        google.colab.kernel.accessAllowed ? 'block' : 'none';\n",
              "\n",
              "      async function convertToInteractive(key) {\n",
              "        const element = document.querySelector('#df-c2d4ea01-b249-41d1-ad80-9de388862119');\n",
              "        const dataTable =\n",
              "          await google.colab.kernel.invokeFunction('convertToInteractive',\n",
              "                                                    [key], {});\n",
              "        if (!dataTable) return;\n",
              "\n",
              "        const docLinkHtml = 'Like what you see? Visit the ' +\n",
              "          '<a target=\"_blank\" href=https://colab.research.google.com/notebooks/data_table.ipynb>data table notebook</a>'\n",
              "          + ' to learn more about interactive tables.';\n",
              "        element.innerHTML = '';\n",
              "        dataTable['output_type'] = 'display_data';\n",
              "        await google.colab.output.renderOutput(dataTable, element);\n",
              "        const docLink = document.createElement('div');\n",
              "        docLink.innerHTML = docLinkHtml;\n",
              "        element.appendChild(docLink);\n",
              "      }\n",
              "    </script>\n",
              "  </div>\n",
              "\n",
              "\n",
              "<div id=\"df-046ed27e-5825-4234-8c14-f41cea269150\">\n",
              "  <button class=\"colab-df-quickchart\" onclick=\"quickchart('df-046ed27e-5825-4234-8c14-f41cea269150')\"\n",
              "            title=\"Suggest charts.\"\n",
              "            style=\"display:none;\">\n",
              "\n",
              "<svg xmlns=\"http://www.w3.org/2000/svg\" height=\"24px\"viewBox=\"0 0 24 24\"\n",
              "     width=\"24px\">\n",
              "    <g>\n",
              "        <path d=\"M19 3H5c-1.1 0-2 .9-2 2v14c0 1.1.9 2 2 2h14c1.1 0 2-.9 2-2V5c0-1.1-.9-2-2-2zM9 17H7v-7h2v7zm4 0h-2V7h2v10zm4 0h-2v-4h2v4z\"/>\n",
              "    </g>\n",
              "</svg>\n",
              "  </button>\n",
              "\n",
              "<style>\n",
              "  .colab-df-quickchart {\n",
              "      --bg-color: #E8F0FE;\n",
              "      --fill-color: #1967D2;\n",
              "      --hover-bg-color: #E2EBFA;\n",
              "      --hover-fill-color: #174EA6;\n",
              "      --disabled-fill-color: #AAA;\n",
              "      --disabled-bg-color: #DDD;\n",
              "  }\n",
              "\n",
              "  [theme=dark] .colab-df-quickchart {\n",
              "      --bg-color: #3B4455;\n",
              "      --fill-color: #D2E3FC;\n",
              "      --hover-bg-color: #434B5C;\n",
              "      --hover-fill-color: #FFFFFF;\n",
              "      --disabled-bg-color: #3B4455;\n",
              "      --disabled-fill-color: #666;\n",
              "  }\n",
              "\n",
              "  .colab-df-quickchart {\n",
              "    background-color: var(--bg-color);\n",
              "    border: none;\n",
              "    border-radius: 50%;\n",
              "    cursor: pointer;\n",
              "    display: none;\n",
              "    fill: var(--fill-color);\n",
              "    height: 32px;\n",
              "    padding: 0;\n",
              "    width: 32px;\n",
              "  }\n",
              "\n",
              "  .colab-df-quickchart:hover {\n",
              "    background-color: var(--hover-bg-color);\n",
              "    box-shadow: 0 1px 2px rgba(60, 64, 67, 0.3), 0 1px 3px 1px rgba(60, 64, 67, 0.15);\n",
              "    fill: var(--button-hover-fill-color);\n",
              "  }\n",
              "\n",
              "  .colab-df-quickchart-complete:disabled,\n",
              "  .colab-df-quickchart-complete:disabled:hover {\n",
              "    background-color: var(--disabled-bg-color);\n",
              "    fill: var(--disabled-fill-color);\n",
              "    box-shadow: none;\n",
              "  }\n",
              "\n",
              "  .colab-df-spinner {\n",
              "    border: 2px solid var(--fill-color);\n",
              "    border-color: transparent;\n",
              "    border-bottom-color: var(--fill-color);\n",
              "    animation:\n",
              "      spin 1s steps(1) infinite;\n",
              "  }\n",
              "\n",
              "  @keyframes spin {\n",
              "    0% {\n",
              "      border-color: transparent;\n",
              "      border-bottom-color: var(--fill-color);\n",
              "      border-left-color: var(--fill-color);\n",
              "    }\n",
              "    20% {\n",
              "      border-color: transparent;\n",
              "      border-left-color: var(--fill-color);\n",
              "      border-top-color: var(--fill-color);\n",
              "    }\n",
              "    30% {\n",
              "      border-color: transparent;\n",
              "      border-left-color: var(--fill-color);\n",
              "      border-top-color: var(--fill-color);\n",
              "      border-right-color: var(--fill-color);\n",
              "    }\n",
              "    40% {\n",
              "      border-color: transparent;\n",
              "      border-right-color: var(--fill-color);\n",
              "      border-top-color: var(--fill-color);\n",
              "    }\n",
              "    60% {\n",
              "      border-color: transparent;\n",
              "      border-right-color: var(--fill-color);\n",
              "    }\n",
              "    80% {\n",
              "      border-color: transparent;\n",
              "      border-right-color: var(--fill-color);\n",
              "      border-bottom-color: var(--fill-color);\n",
              "    }\n",
              "    90% {\n",
              "      border-color: transparent;\n",
              "      border-bottom-color: var(--fill-color);\n",
              "    }\n",
              "  }\n",
              "</style>\n",
              "\n",
              "  <script>\n",
              "    async function quickchart(key) {\n",
              "      const quickchartButtonEl =\n",
              "        document.querySelector('#' + key + ' button');\n",
              "      quickchartButtonEl.disabled = true;  // To prevent multiple clicks.\n",
              "      quickchartButtonEl.classList.add('colab-df-spinner');\n",
              "      try {\n",
              "        const charts = await google.colab.kernel.invokeFunction(\n",
              "            'suggestCharts', [key], {});\n",
              "      } catch (error) {\n",
              "        console.error('Error during call to suggestCharts:', error);\n",
              "      }\n",
              "      quickchartButtonEl.classList.remove('colab-df-spinner');\n",
              "      quickchartButtonEl.classList.add('colab-df-quickchart-complete');\n",
              "    }\n",
              "    (() => {\n",
              "      let quickchartButtonEl =\n",
              "        document.querySelector('#df-046ed27e-5825-4234-8c14-f41cea269150 button');\n",
              "      quickchartButtonEl.style.display =\n",
              "        google.colab.kernel.accessAllowed ? 'block' : 'none';\n",
              "    })();\n",
              "  </script>\n",
              "</div>\n",
              "    </div>\n",
              "  </div>\n"
            ]
          },
          "metadata": {},
          "execution_count": 66
        }
      ]
    },
    {
      "cell_type": "markdown",
      "source": [
        "Para poder ver a correlação de uma forma melhor, vou utilizar o mapa de calor."
      ],
      "metadata": {
        "id": "f5upGLsq28zO"
      }
    },
    {
      "cell_type": "code",
      "source": [
        "plt.figure(figsize=(12,10))\n",
        "paleta = sns.color_palette('light:salmon', as_cmap = True)\n",
        "sns.heatmap(dataframe_correlacao.round(1), annot=True, cmap=paleta)"
      ],
      "metadata": {
        "colab": {
          "base_uri": "https://localhost:8080/",
          "height": 953
        },
        "id": "GqKD5fGC3CnZ",
        "outputId": "9c277f59-158c-40c9-e357-91aed1df7e3b"
      },
      "execution_count": null,
      "outputs": [
        {
          "output_type": "execute_result",
          "data": {
            "text/plain": [
              "<Axes: >"
            ]
          },
          "metadata": {},
          "execution_count": 67
        },
        {
          "output_type": "display_data",
          "data": {
            "text/plain": [
              "<Figure size 1200x1000 with 2 Axes>"
            ],
            "image/png": "[encoded data removed]"
          },
          "metadata": {}
        }
      ]
    },
    {
      "cell_type": "markdown",
      "source": [
        "**Regressão Linear**"
      ],
      "metadata": {
        "id": "LjBxhAr03mLe"
      }
    },
    {
      "cell_type": "code",
      "source": [
        "from pyspark.ml.regression import LinearRegression"
      ],
      "metadata": {
        "id": "VzPeNeUu3oNj"
      },
      "execution_count": null,
      "outputs": []
    },
    {
      "cell_type": "code",
      "source": [
        "# separando os dados entre treino e teste\n",
        "\n",
        "treino, teste = dataset_rep.randomSplit([0.7,0.3])"
      ],
      "metadata": {
        "id": "g6agoIZO3yAT"
      },
      "execution_count": null,
      "outputs": []
    },
    {
      "cell_type": "code",
      "source": [
        "# criando o modelo regressor\n",
        "\n",
        "lr = LinearRegression()"
      ],
      "metadata": {
        "id": "oTPddIg03t0D"
      },
      "execution_count": null,
      "outputs": []
    },
    {
      "cell_type": "code",
      "source": [
        "# passando para o modelo, o ajuste dos dados\n",
        "\n",
        "modelo_lr = lr.fit(treino)"
      ],
      "metadata": {
        "id": "A4q9Tdcq3vzD"
      },
      "execution_count": null,
      "outputs": []
    },
    {
      "cell_type": "code",
      "source": [
        "# com base nessas previsões eu vou gerar as metricas para avaliar o modelo\n",
        "\n",
        "previsao_lr_treino = modelo_lr.transform(treino)"
      ],
      "metadata": {
        "id": "rGfcjJ8T37NS"
      },
      "execution_count": null,
      "outputs": []
    },
    {
      "cell_type": "code",
      "source": [
        "previsao_lr_treino.show(truncate=False)"
      ],
      "metadata": {
        "colab": {
          "base_uri": "https://localhost:8080/"
        },
        "id": "avgkPn4V4KwQ",
        "outputId": "a3bb246e-95a2-4798-c6e0-b0b23540b1c9"
      },
      "execution_count": null,
      "outputs": [
        {
          "output_type": "stream",
          "name": "stdout",
          "text": [
            "+------------------------------------------------------------------------------+--------+------------------+\n",
            "|features                                                                      |label   |prediction        |\n",
            "+------------------------------------------------------------------------------+--------+------------------+\n",
            "|(17,[0,1,2,3,4,5,6,9,10,13],[400.0,100.0,2.0,1.0,32.0,1.0,1.0,32.0,1.0,1.0])  |329000.0|636077.251468814  |\n",
            "|(17,[0,1,2,3,4,5,6,9,10,13],[1000.0,2000.0,1.0,3.0,15.0,1.0,1.0,75.0,1.0,1.0])|820000.0|906802.9057273443 |\n",
            "|(17,[0,1,2,3,4,5,6,9,10,14],[1.0,1.0,2.0,2.0,7.0,1.0,1.0,68.0,1.0,1.0])       |577800.0|529393.2855882288 |\n",
            "|(17,[0,1,2,3,4,5,6,9,10,14],[10.0,10.0,2.0,2.0,10.0,1.0,1.0,56.0,1.0,1.0])    |361377.0|470310.70110549737|\n",
            "|(17,[0,1,2,3,4,5,6,9,10,14],[320.0,350.0,1.0,3.0,5.0,1.0,1.0,60.0,1.0,1.0])   |360000.0|478344.6452221596 |\n",
            "|(17,[0,1,2,3,4,5,6,9,10,14],[500.0,170.0,1.0,2.0,3.0,1.0,1.0,120.0,1.0,1.0])  |580000.0|717852.7625061506 |\n",
            "|(17,[0,1,2,3,4,5,6,9,10,14],[550.0,250.0,2.0,2.0,13.0,1.0,2.0,50.0,1.0,1.0])  |315000.0|703100.6464464972 |\n",
            "|(17,[0,1,2,3,4,5,6,9,10,14],[550.0,350.0,1.0,3.0,14.0,1.0,1.0,61.0,1.0,1.0])  |330000.0|495838.0289943999 |\n",
            "|(17,[0,1,2,3,4,5,6,9,10,14],[600.0,600.0,2.0,3.0,14.0,1.0,1.0,78.0,1.0,1.0])  |540000.0|665216.0595063113 |\n",
            "|(17,[0,1,2,3,4,5,6,9,10,14],[700.0,117.0,1.0,3.0,4.0,1.0,1.0,65.0,1.0,1.0])   |450000.0|503405.7004157338 |\n",
            "|(17,[0,1,2,3,4,5,6,9,10,14],[700.0,1500.0,2.0,3.0,4.0,1.0,1.0,88.0,1.0,1.0])  |690000.0|704397.3287432585 |\n",
            "|(17,[0,1,2,3,4,5,6,9,10,14],[770.0,140.0,2.0,2.0,8.0,2.0,2.0,64.0,1.0,1.0])   |480000.0|873806.5191632216 |\n",
            "|(17,[0,1,2,3,4,5,6,9,10,14],[900.0,1000.0,3.0,2.0,9.0,1.0,1.0,76.0,1.0,1.0])  |539000.0|654418.072871177  |\n",
            "|(17,[0,1,2,3,4,5,6,9,10,14],[950.0,184.0,3.0,3.0,4.0,1.0,1.0,88.0,1.0,1.0])   |890000.0|784307.1236261153 |\n",
            "|(17,[0,1,2,3,4,5,6,9,10,14],[1000.0,450.0,3.0,3.0,3.0,2.0,1.0,140.0,1.0,1.0]) |750000.0|1160327.6706387582|\n",
            "|(17,[0,1,2,3,4,5,6,9,10,14],[1000.0,600.0,1.0,3.0,7.0,2.0,1.0,130.0,1.0,1.0]) |750000.0|953320.3582867016 |\n",
            "|(17,[0,1,2,3,4,5,6,9,10,14],[1500.0,2.0,3.0,3.0,10.0,1.0,1.0,112.0,1.0,1.0])  |670000.0|918852.7256281511 |\n",
            "|(17,[0,1,2,3,4,5,6,9,10,15],[1.0,1.0,1.0,2.0,4.0,1.0,1.0,90.0,1.0,1.0])       |630000.0|583617.278471149  |\n",
            "|(17,[0,1,2,3,4,5,6,9,10,15],[1.0,1.0,1.0,2.0,4.0,1.0,1.0,90.0,1.0,1.0])       |630000.0|583617.278471149  |\n",
            "|(17,[0,1,2,3,4,5,6,9,10,15],[1.0,1.0,1.0,2.0,17.0,1.0,1.0,54.0,1.0,1.0])      |255000.0|411764.8988833471 |\n",
            "+------------------------------------------------------------------------------+--------+------------------+\n",
            "only showing top 20 rows\n",
            "\n"
          ]
        }
      ]
    },
    {
      "cell_type": "markdown",
      "source": [
        "**Extraindo métricas - regressão linear**"
      ],
      "metadata": {
        "id": "vfYzrN4y4PTb"
      }
    },
    {
      "cell_type": "code",
      "source": [
        "resumo_treino = modelo_lr.summary"
      ],
      "metadata": {
        "id": "-93g3x2z4TNv"
      },
      "execution_count": null,
      "outputs": []
    },
    {
      "cell_type": "code",
      "source": [
        "resumo_treino.r2"
      ],
      "metadata": {
        "colab": {
          "base_uri": "https://localhost:8080/"
        },
        "id": "bQIFrqaq4eTe",
        "outputId": "b227c63c-f25b-4253-c435-4a6d15166104"
      },
      "execution_count": null,
      "outputs": [
        {
          "output_type": "execute_result",
          "data": {
            "text/plain": [
              "0.666423107370658"
            ]
          },
          "metadata": {},
          "execution_count": 75
        }
      ]
    },
    {
      "cell_type": "code",
      "source": [
        "resumo_treino.rootMeanSquaredError"
      ],
      "metadata": {
        "colab": {
          "base_uri": "https://localhost:8080/"
        },
        "id": "wJzwHdIC4gde",
        "outputId": "27b89967-4a8b-4a91-c691-3de09f452444"
      },
      "execution_count": null,
      "outputs": [
        {
          "output_type": "execute_result",
          "data": {
            "text/plain": [
              "806602.1073379982"
            ]
          },
          "metadata": {},
          "execution_count": 76
        }
      ]
    },
    {
      "cell_type": "code",
      "source": [
        "resumo_teste = modelo_lr.evaluate(teste)"
      ],
      "metadata": {
        "id": "FxBKy2hY7Eih"
      },
      "execution_count": null,
      "outputs": []
    },
    {
      "cell_type": "code",
      "source": [
        "resumo_teste.r2"
      ],
      "metadata": {
        "colab": {
          "base_uri": "https://localhost:8080/"
        },
        "id": "RgjuLrRo7JTg",
        "outputId": "298e8ed3-06e9-4d03-c925-b8731f9cb775"
      },
      "execution_count": null,
      "outputs": [
        {
          "output_type": "execute_result",
          "data": {
            "text/plain": [
              "0.6554028184302374"
            ]
          },
          "metadata": {},
          "execution_count": 78
        }
      ]
    },
    {
      "cell_type": "code",
      "source": [
        "resumo_teste.rootMeanSquaredError"
      ],
      "metadata": {
        "colab": {
          "base_uri": "https://localhost:8080/"
        },
        "id": "MM5CMb637LRx",
        "outputId": "b59c2821-d5fd-4d80-a84d-61fce85ecd59"
      },
      "execution_count": null,
      "outputs": [
        {
          "output_type": "execute_result",
          "data": {
            "text/plain": [
              "810615.7543978458"
            ]
          },
          "metadata": {},
          "execution_count": 79
        }
      ]
    },
    {
      "cell_type": "code",
      "source": [
        "# Imprimindo resultado final do treino e teste, com o R² e o RMSE\n",
        "\n",
        "print('Regressão Linear')\n",
        "print('')\n",
        "print('R² Treino: %f'% resumo_treino.r2)\n",
        "print('RMSE Treino: %f'% resumo_treino.rootMeanSquaredError)\n",
        "print('='*30)\n",
        "print('R² Teste: %f'% resumo_teste.r2)\n",
        "print('RMSE Teste: %f'% resumo_teste.rootMeanSquaredError)"
      ],
      "metadata": {
        "colab": {
          "base_uri": "https://localhost:8080/"
        },
        "id": "KMs6N_Bb7O_u",
        "outputId": "5358c4b2-f7db-49e8-df52-a358cb526ddd"
      },
      "execution_count": null,
      "outputs": [
        {
          "output_type": "stream",
          "name": "stdout",
          "text": [
            "Regressão Linear\n",
            "\n",
            "R² Treino: 0.666423\n",
            "RMSE Treino: 806602.107338\n",
            "==============================\n",
            "R² Teste: 0.655403\n",
            "RMSE Teste: 810615.754398\n"
          ]
        }
      ]
    },
    {
      "cell_type": "markdown",
      "source": [
        "**Árvore de Decisão**"
      ],
      "metadata": {
        "id": "rnp1Ra6n4ljR"
      }
    },
    {
      "cell_type": "code",
      "source": [
        "from pyspark.ml.regression import DecisionTreeRegressor"
      ],
      "metadata": {
        "id": "SK1UM11K6X-q"
      },
      "execution_count": null,
      "outputs": []
    },
    {
      "cell_type": "code",
      "source": [
        "# o maxDepth=7 é a profundidade que minha arvore vai ter, ou seja, quantas decisões\n",
        "# que ela via ter\n",
        "\n",
        "dtr = DecisionTreeRegressor(maxDepth=7)"
      ],
      "metadata": {
        "id": "OpJztPL_6jeG"
      },
      "execution_count": null,
      "outputs": []
    },
    {
      "cell_type": "code",
      "source": [
        "modelo_dtr = dtr.fit(treino)"
      ],
      "metadata": {
        "id": "ZcHX8BBc6wbC"
      },
      "execution_count": null,
      "outputs": []
    },
    {
      "cell_type": "code",
      "source": [
        "previsao_dtr_treino = modelo_dtr.transform(treino)"
      ],
      "metadata": {
        "id": "JyHxhGvg60iz"
      },
      "execution_count": null,
      "outputs": []
    },
    {
      "cell_type": "code",
      "source": [
        "previsao_dtr_treino.show(truncate=False)"
      ],
      "metadata": {
        "colab": {
          "base_uri": "https://localhost:8080/"
        },
        "id": "5XsdLUHv66Dz",
        "outputId": "06d06938-a458-4f1b-a885-7551b5e7fabf"
      },
      "execution_count": null,
      "outputs": [
        {
          "output_type": "stream",
          "name": "stdout",
          "text": [
            "+------------------------------------------------------------------------------+--------+------------------+\n",
            "|features                                                                      |label   |prediction        |\n",
            "+------------------------------------------------------------------------------+--------+------------------+\n",
            "|(17,[0,1,2,3,4,5,6,9,10,13],[400.0,100.0,2.0,1.0,32.0,1.0,1.0,32.0,1.0,1.0])  |329000.0|373121.4411846885 |\n",
            "|(17,[0,1,2,3,4,5,6,9,10,13],[1000.0,2000.0,1.0,3.0,15.0,1.0,1.0,75.0,1.0,1.0])|820000.0|695440.409556314  |\n",
            "|(17,[0,1,2,3,4,5,6,9,10,14],[1.0,1.0,2.0,2.0,7.0,1.0,1.0,68.0,1.0,1.0])       |577800.0|557162.3902961113 |\n",
            "|(17,[0,1,2,3,4,5,6,9,10,14],[10.0,10.0,2.0,2.0,10.0,1.0,1.0,56.0,1.0,1.0])    |361377.0|373121.4411846885 |\n",
            "|(17,[0,1,2,3,4,5,6,9,10,14],[320.0,350.0,1.0,3.0,5.0,1.0,1.0,60.0,1.0,1.0])   |360000.0|373121.4411846885 |\n",
            "|(17,[0,1,2,3,4,5,6,9,10,14],[500.0,170.0,1.0,2.0,3.0,1.0,1.0,120.0,1.0,1.0])  |580000.0|696450.047311828  |\n",
            "|(17,[0,1,2,3,4,5,6,9,10,14],[550.0,250.0,2.0,2.0,13.0,1.0,2.0,50.0,1.0,1.0])  |315000.0|373121.4411846885 |\n",
            "|(17,[0,1,2,3,4,5,6,9,10,14],[550.0,350.0,1.0,3.0,14.0,1.0,1.0,61.0,1.0,1.0])  |330000.0|373121.4411846885 |\n",
            "|(17,[0,1,2,3,4,5,6,9,10,14],[600.0,600.0,2.0,3.0,14.0,1.0,1.0,78.0,1.0,1.0])  |540000.0|557162.3902961113 |\n",
            "|(17,[0,1,2,3,4,5,6,9,10,14],[700.0,117.0,1.0,3.0,4.0,1.0,1.0,65.0,1.0,1.0])   |450000.0|373121.4411846885 |\n",
            "|(17,[0,1,2,3,4,5,6,9,10,14],[700.0,1500.0,2.0,3.0,4.0,1.0,1.0,88.0,1.0,1.0])  |690000.0|557162.3902961113 |\n",
            "|(17,[0,1,2,3,4,5,6,9,10,14],[770.0,140.0,2.0,2.0,8.0,2.0,2.0,64.0,1.0,1.0])   |480000.0|373121.4411846885 |\n",
            "|(17,[0,1,2,3,4,5,6,9,10,14],[900.0,1000.0,3.0,2.0,9.0,1.0,1.0,76.0,1.0,1.0])  |539000.0|557162.3902961113 |\n",
            "|(17,[0,1,2,3,4,5,6,9,10,14],[950.0,184.0,3.0,3.0,4.0,1.0,1.0,88.0,1.0,1.0])   |890000.0|557162.3902961113 |\n",
            "|(17,[0,1,2,3,4,5,6,9,10,14],[1000.0,450.0,3.0,3.0,3.0,2.0,1.0,140.0,1.0,1.0]) |750000.0|1264215.5624344177|\n",
            "|(17,[0,1,2,3,4,5,6,9,10,14],[1000.0,600.0,1.0,3.0,7.0,2.0,1.0,130.0,1.0,1.0]) |750000.0|874823.2915766739 |\n",
            "|(17,[0,1,2,3,4,5,6,9,10,14],[1500.0,2.0,3.0,3.0,10.0,1.0,1.0,112.0,1.0,1.0])  |670000.0|820863.4772727273 |\n",
            "|(17,[0,1,2,3,4,5,6,9,10,15],[1.0,1.0,1.0,2.0,4.0,1.0,1.0,90.0,1.0,1.0])       |630000.0|557162.3902961113 |\n",
            "|(17,[0,1,2,3,4,5,6,9,10,15],[1.0,1.0,1.0,2.0,4.0,1.0,1.0,90.0,1.0,1.0])       |630000.0|557162.3902961113 |\n",
            "|(17,[0,1,2,3,4,5,6,9,10,15],[1.0,1.0,1.0,2.0,17.0,1.0,1.0,54.0,1.0,1.0])      |255000.0|373121.4411846885 |\n",
            "+------------------------------------------------------------------------------+--------+------------------+\n",
            "only showing top 20 rows\n",
            "\n"
          ]
        }
      ]
    },
    {
      "cell_type": "code",
      "source": [
        "# Olhando o modelo, parece que os valores está muito parecidos com os preços\n",
        "# originais, para verificar de fato se esse modelo está bom, vou extrair as metricas"
      ],
      "metadata": {
        "id": "_sT7jY1r4B_r"
      },
      "execution_count": null,
      "outputs": []
    },
    {
      "cell_type": "markdown",
      "source": [
        "**Extraindo Métricas - Árvore de Decisão**"
      ],
      "metadata": {
        "id": "kENycB6a70Pe"
      }
    },
    {
      "cell_type": "code",
      "source": [
        "# diferente da regressão linear, dessa vez vou utilizar um objeto que vai ajudar\n",
        "# a avaliar o modelo, esse objeto se chama, avaliador de regressão\n",
        "\n",
        "from pyspark.ml.evaluation import RegressionEvaluator"
      ],
      "metadata": {
        "id": "IXWH_eTh75aZ"
      },
      "execution_count": null,
      "outputs": []
    },
    {
      "cell_type": "code",
      "source": [
        "evaluator = RegressionEvaluator()"
      ],
      "metadata": {
        "id": "bsv05Nes8Cfe"
      },
      "execution_count": null,
      "outputs": []
    },
    {
      "cell_type": "code",
      "source": [
        "print(evaluator.evaluate(previsao_dtr_treino,{evaluator.metricName:'r2'}))\n",
        "print(evaluator.evaluate(previsao_dtr_treino,{evaluator.metricName:'rmse'}))"
      ],
      "metadata": {
        "colab": {
          "base_uri": "https://localhost:8080/"
        },
        "id": "zDny36Cr6-Ng",
        "outputId": "e9531079-b450-4473-fcee-8b7c742e7271"
      },
      "execution_count": null,
      "outputs": [
        {
          "output_type": "stream",
          "name": "stdout",
          "text": [
            "0.7918499202630818\n",
            "637161.7020426595\n"
          ]
        }
      ]
    },
    {
      "cell_type": "code",
      "source": [
        "previsao_dtr_teste = modelo_dtr.transform(teste)"
      ],
      "metadata": {
        "id": "hQSiorxu7ubc"
      },
      "execution_count": null,
      "outputs": []
    },
    {
      "cell_type": "code",
      "source": [
        "print(evaluator.evaluate(previsao_dtr_teste,{evaluator.metricName:'r2'}))\n",
        "print(evaluator.evaluate(previsao_dtr_teste,{evaluator.metricName:'rmse'}))"
      ],
      "metadata": {
        "colab": {
          "base_uri": "https://localhost:8080/"
        },
        "id": "weVsaEKA8iqb",
        "outputId": "7eb05de5-bc9a-425f-b80e-3354a04e11a2"
      },
      "execution_count": null,
      "outputs": [
        {
          "output_type": "stream",
          "name": "stdout",
          "text": [
            "0.7707519426201253\n",
            "661168.2827160703\n"
          ]
        }
      ]
    },
    {
      "cell_type": "code",
      "source": [
        "# imprimindo resultado final de treino e teste a Árvore de Decisão\n",
        "\n",
        "print('Árvore de Decisão')\n",
        "print('')\n",
        "print('R² Treino: %f'% evaluator.evaluate(previsao_dtr_treino,{evaluator.metricName:'r2'}))\n",
        "print('RMSE Treino: %f'% evaluator.evaluate(previsao_dtr_treino,{evaluator.metricName:'rmse'}))\n",
        "print('='*30)\n",
        "print('R² Teste: %f'%evaluator.evaluate(previsao_dtr_teste,{evaluator.metricName:'r2'}))\n",
        "print('RMSE Teste: %f'%evaluator.evaluate(previsao_dtr_teste,{evaluator.metricName:'rmse'}))"
      ],
      "metadata": {
        "colab": {
          "base_uri": "https://localhost:8080/"
        },
        "id": "XfWumWwj8moJ",
        "outputId": "7e27e85a-71c5-4280-ea68-1892d45a3cfd"
      },
      "execution_count": null,
      "outputs": [
        {
          "output_type": "stream",
          "name": "stdout",
          "text": [
            "Árvore de Decisão\n",
            "\n",
            "R² Treino: 0.791850\n",
            "RMSE Treino: 637161.702043\n",
            "==============================\n",
            "R² Teste: 0.770752\n",
            "RMSE Teste: 661168.282716\n"
          ]
        }
      ]
    },
    {
      "cell_type": "markdown",
      "source": [
        "Se formos comparar com a metricas de regressão linear que era de 65% o r2, esse da árvore é de 77%, que já é um bom ganho."
      ],
      "metadata": {
        "id": "aXalLhIu4nUv"
      }
    },
    {
      "cell_type": "markdown",
      "source": [
        "**Random Forest - Regressão**"
      ],
      "metadata": {
        "id": "pkyCXL7A9Rib"
      }
    },
    {
      "cell_type": "code",
      "source": [
        "from pyspark.ml.regression import RandomForestRegressor"
      ],
      "metadata": {
        "id": "pa4KB9qC9Q0O"
      },
      "execution_count": null,
      "outputs": []
    },
    {
      "cell_type": "code",
      "source": [
        "rfr = RandomForestRegressor(maxDepth=7, numTrees=10)"
      ],
      "metadata": {
        "id": "rftyQXr99bjO"
      },
      "execution_count": null,
      "outputs": []
    },
    {
      "cell_type": "code",
      "source": [
        "modelo_rfr = rfr.fit(treino)"
      ],
      "metadata": {
        "id": "RdATaAIy9fR1"
      },
      "execution_count": null,
      "outputs": []
    },
    {
      "cell_type": "code",
      "source": [
        "previsao_rfr_treino = modelo_rfr.transform(treino)"
      ],
      "metadata": {
        "id": "FcOIPhe59uBP"
      },
      "execution_count": null,
      "outputs": []
    },
    {
      "cell_type": "markdown",
      "source": [
        "**Extraindo Métricas - Random Forest**"
      ],
      "metadata": {
        "id": "wrKjqnlH-pOB"
      }
    },
    {
      "cell_type": "code",
      "source": [
        "print(evaluator.evaluate(previsao_rfr_treino,{evaluator.metricName:'r2'}))\n",
        "print(evaluator.evaluate(previsao_rfr_treino,{evaluator.metricName:'rmse'}))"
      ],
      "metadata": {
        "colab": {
          "base_uri": "https://localhost:8080/"
        },
        "id": "w8QeNZKl912-",
        "outputId": "f2103aa0-2a5f-4130-c386-ee2f6360d574"
      },
      "execution_count": null,
      "outputs": [
        {
          "output_type": "stream",
          "name": "stdout",
          "text": [
            "0.8027470526788684\n",
            "620259.069749801\n"
          ]
        }
      ]
    },
    {
      "cell_type": "code",
      "source": [
        "previsao_rfr_teste = modelo_rfr.transform(teste)"
      ],
      "metadata": {
        "id": "fohgvBac-C55"
      },
      "execution_count": null,
      "outputs": []
    },
    {
      "cell_type": "code",
      "source": [
        "print(evaluator.evaluate(previsao_rfr_teste,{evaluator.metricName:'r2'}))\n",
        "print(evaluator.evaluate(previsao_rfr_teste,{evaluator.metricName:'rmse'}))"
      ],
      "metadata": {
        "colab": {
          "base_uri": "https://localhost:8080/"
        },
        "id": "05QnVb8B-HFJ",
        "outputId": "797559a6-7f2d-4a78-9ba2-1bdbac4ff166"
      },
      "execution_count": null,
      "outputs": [
        {
          "output_type": "stream",
          "name": "stdout",
          "text": [
            "0.7943181899685657\n",
            "626263.5309355758\n"
          ]
        }
      ]
    },
    {
      "cell_type": "code",
      "source": [
        "print('Random Forest')\n",
        "print('')\n",
        "print('R² Treino: %f'% evaluator.evaluate(previsao_rfr_treino,{evaluator.metricName:'r2'}))\n",
        "print('RMSE Treino: %f'% evaluator.evaluate(previsao_rfr_treino,{evaluator.metricName:'rmse'}))\n",
        "print('='*30)\n",
        "print('R² Teste: %f'%evaluator.evaluate(previsao_rfr_teste,{evaluator.metricName:'r2'}))\n",
        "print('RMSE Teste: %f'%evaluator.evaluate(previsao_rfr_teste,{evaluator.metricName:'rmse'}))"
      ],
      "metadata": {
        "colab": {
          "base_uri": "https://localhost:8080/"
        },
        "id": "D4AQkUQz-Mik",
        "outputId": "ca825724-65bf-46f6-f5eb-33d86366d4e5"
      },
      "execution_count": null,
      "outputs": [
        {
          "output_type": "stream",
          "name": "stdout",
          "text": [
            "Random Forest\n",
            "\n",
            "R² Treino: 0.802747\n",
            "RMSE Treino: 620259.069750\n",
            "==============================\n",
            "R² Teste: 0.794318\n",
            "RMSE Teste: 626263.530936\n"
          ]
        }
      ]
    },
    {
      "cell_type": "markdown",
      "source": [
        "**Otimizando Modelos**"
      ],
      "metadata": {
        "id": "u2ekVr46-y_h"
      }
    },
    {
      "cell_type": "markdown",
      "source": [
        "**Otimizando Modelo de Árvore de Decisão**"
      ],
      "metadata": {
        "id": "b5cQ-yLL-224"
      }
    },
    {
      "cell_type": "code",
      "source": [
        "# O CossValidator é o objeto responsavel por fazer separar todas a separação entre\n",
        "# treino e teste, e vou utilizar também o contrutor de Grid Parametros, que vai\n",
        "# permitir que eu trabalhe com varios parametros diferentes.\n",
        "\n",
        "from pyspark.ml.regression import DecisionTreeRegressor\n",
        "from pyspark.ml.tuning import CrossValidator, ParamGridBuilder\n",
        "from pyspark.ml.evaluation import RegressionEvaluator"
      ],
      "metadata": {
        "id": "e5oF9c2Y-6WJ"
      },
      "execution_count": null,
      "outputs": []
    },
    {
      "cell_type": "code",
      "source": [
        "# criando o objeto regressor\n",
        "\n",
        "dtr = DecisionTreeRegressor()"
      ],
      "metadata": {
        "id": "4VFoca1w_IDo"
      },
      "execution_count": null,
      "outputs": []
    },
    {
      "cell_type": "code",
      "source": [
        "# passando os parametros o qual quero que seja testado para ver qual vai se dar melhor,\n",
        "# maxDepth = profundidade da arvore, maxBins = quantidade de vezes que a minha arvore\n",
        "# de decisão vai tentar montar aqueles nós, com diferentes funções, o quão refinado\n",
        "# vai ter a tentativa para montar esses nós.\n",
        "\n",
        "grid = ParamGridBuilder()\\\n",
        "      .addGrid(dtr.maxDepth,[2,5,10])\\\n",
        "      .addGrid(dtr.maxBins,[10,32,45])\\\n",
        "      .build()"
      ],
      "metadata": {
        "id": "Yr2idNXBAH7i"
      },
      "execution_count": null,
      "outputs": []
    },
    {
      "cell_type": "code",
      "source": [
        "# gerar um avaliador\n",
        "\n",
        "evaluator = RegressionEvaluator()"
      ],
      "metadata": {
        "id": "fZipuR3cAhl0"
      },
      "execution_count": null,
      "outputs": []
    },
    {
      "cell_type": "code",
      "source": [
        "# criando um objeto crossvalidator\n",
        "\n",
        "# estimator = tipo do modelo, estimatorParamMaps = grid que acabou de criar, evaluator =\n",
        "# o próprio evaluator, numFolds = tentativas de quebrar o modelo em diferentes treino\n",
        "# e testes\n",
        "\n",
        "dtr_cv = CrossValidator(\n",
        "    estimator=dtr,\n",
        "    estimatorParamMaps=grid,\n",
        "    evaluator=evaluator,\n",
        "    numFolds=3\n",
        ")"
      ],
      "metadata": {
        "id": "p4J-as6M-2F8"
      },
      "execution_count": null,
      "outputs": []
    },
    {
      "cell_type": "code",
      "source": [
        "# ajustando os dados\n",
        "\n",
        "modelo_dtr_cv = dtr_cv.fit(treino)"
      ],
      "metadata": {
        "id": "kkC3W9v4Aw6T"
      },
      "execution_count": null,
      "outputs": []
    },
    {
      "cell_type": "code",
      "source": [
        "# fazendo a previsão do modelo\n",
        "\n",
        "previsao_dtr_cv = modelo_dtr_cv.transform(teste)"
      ],
      "metadata": {
        "id": "Ewdtj15bA1UU"
      },
      "execution_count": null,
      "outputs": []
    },
    {
      "cell_type": "code",
      "source": [
        "# fazendo a comparação entre o modelo sem otimização e o modelo otimizado\n",
        "\n",
        "print('Árvore de Decisão Sem Otimização')\n",
        "print('')\n",
        "print('R² Teste: %f'%evaluator.evaluate(previsao_dtr_teste,{evaluator.metricName:'r2'}))\n",
        "print('RMSE Teste: %f'%evaluator.evaluate(previsao_dtr_teste,{evaluator.metricName:'rmse'}))\n",
        "print('='*30)\n",
        "print('Árvore de Decisão Com Otimização')\n",
        "print('')\n",
        "print('R² Teste: %f'%evaluator.evaluate(previsao_dtr_cv,{evaluator.metricName:'r2'}))\n",
        "print('RMSE Teste: %f'%evaluator.evaluate(previsao_dtr_cv,{evaluator.metricName:'rmse'}))"
      ],
      "metadata": {
        "colab": {
          "base_uri": "https://localhost:8080/"
        },
        "id": "fVZlTRP0A7r0",
        "outputId": "44e20465-f939-4bbf-9e95-68a22f564a14"
      },
      "execution_count": null,
      "outputs": [
        {
          "output_type": "stream",
          "name": "stdout",
          "text": [
            "Árvore de Decisão Sem Otimização\n",
            "\n",
            "R² Teste: 0.770752\n",
            "RMSE Teste: 661168.282716\n",
            "==============================\n",
            "Árvore de Decisão Com Otimização\n",
            "\n",
            "R² Teste: 0.786124\n",
            "RMSE Teste: 638616.985248\n"
          ]
        }
      ]
    },
    {
      "cell_type": "markdown",
      "source": [
        "**Otimizando Modelo de Random Forest**"
      ],
      "metadata": {
        "id": "CpDqVP6dBVgk"
      }
    },
    {
      "cell_type": "code",
      "source": [
        "from pyspark.ml.regression import RandomForestRegressor\n",
        "from pyspark.ml.evaluation import RegressionEvaluator\n",
        "from pyspark.ml.tuning import CrossValidator, ParamGridBuilder"
      ],
      "metadata": {
        "id": "tcAlR5o5BY8O"
      },
      "execution_count": null,
      "outputs": []
    },
    {
      "cell_type": "code",
      "source": [
        "rfr = RandomForestRegressor()"
      ],
      "metadata": {
        "id": "5FcYxQuDBeLP"
      },
      "execution_count": null,
      "outputs": []
    },
    {
      "cell_type": "code",
      "source": [
        "grid = ParamGridBuilder()\\\n",
        "      .addGrid(rfr.numTrees,[10,20,30])\\\n",
        "      .addGrid(rfr.maxDepth,[5,10])\\\n",
        "      .addGrid(rfr.maxBins,[10,32,45])\\\n",
        "      .build()"
      ],
      "metadata": {
        "id": "Tq_qzwFDBgve"
      },
      "execution_count": null,
      "outputs": []
    },
    {
      "cell_type": "code",
      "source": [
        "evaluator = RegressionEvaluator()"
      ],
      "metadata": {
        "id": "ftmJLPQbB6cB"
      },
      "execution_count": null,
      "outputs": []
    },
    {
      "cell_type": "code",
      "source": [
        "rfr_cv = CrossValidator(\n",
        "    estimator = rfr,\n",
        "    estimatorParamMaps = grid,\n",
        "    evaluator = evaluator,\n",
        "    numFolds= 3\n",
        ")"
      ],
      "metadata": {
        "id": "79AgoYAHCDtB"
      },
      "execution_count": null,
      "outputs": []
    },
    {
      "cell_type": "code",
      "source": [
        "modelo_rfr_cv = rfr_cv.fit(treino)"
      ],
      "metadata": {
        "id": "EXH_pp5PCYPY"
      },
      "execution_count": null,
      "outputs": []
    },
    {
      "cell_type": "code",
      "source": [
        "previsao_rfr_cv = modelo_rfr_cv.transform(teste)"
      ],
      "metadata": {
        "id": "ecsjMGzgCcvZ"
      },
      "execution_count": null,
      "outputs": []
    },
    {
      "cell_type": "code",
      "source": [
        "# fazendo a comparação entre o Random Forest sem otimização e com otimização\n",
        "\n",
        "print('Random Forest Sem Otimização')\n",
        "print('')\n",
        "print('R² Teste: %f'%evaluator.evaluate(previsao_rfr_teste,{evaluator.metricName:'r2'}))\n",
        "print('RMSE Teste: %f'%evaluator.evaluate(previsao_rfr_teste,{evaluator.metricName:'rmse'}))\n",
        "print('='*30)\n",
        "print('Random Forest Com Otimização')\n",
        "print('')\n",
        "print('R² Teste: %f'%evaluator.evaluate(previsao_rfr_cv,{evaluator.metricName:'r2'}))\n",
        "print('RMSE Teste: %f'%evaluator.evaluate(previsao_rfr_cv,{evaluator.metricName:'rmse'}))"
      ],
      "metadata": {
        "colab": {
          "base_uri": "https://localhost:8080/"
        },
        "id": "fJKvsbqJCjDV",
        "outputId": "bc9f679c-a3b0-421a-f1f6-638d68c47ab0"
      },
      "execution_count": null,
      "outputs": [
        {
          "output_type": "stream",
          "name": "stdout",
          "text": [
            "Random Forest Sem Otimização\n",
            "\n",
            "R² Teste: 0.794318\n",
            "RMSE Teste: 626263.530936\n",
            "==============================\n",
            "Random Forest Com Otimização\n",
            "\n",
            "R² Teste: 0.832793\n",
            "RMSE Teste: 564659.667738\n"
          ]
        }
      ]
    },
    {
      "cell_type": "markdown",
      "source": [
        "**Prevendo Resultado com o melhor modelo**"
      ],
      "metadata": {
        "id": "Kjuv6cISDW5r"
      }
    },
    {
      "cell_type": "markdown",
      "source": [
        "Vou criar um novo imóvel do jeito que eu quiser e utilizando o melhor modelo que foi o de Random Forest Otimizado, prever qual o valor eu tenho que ter para comprar esse imóvel"
      ],
      "metadata": {
        "id": "M57UK0H36OSu"
      }
    },
    {
      "cell_type": "code",
      "source": [
        "X"
      ],
      "metadata": {
        "colab": {
          "base_uri": "https://localhost:8080/"
        },
        "id": "fS6ky8CfDcCg",
        "outputId": "626dbd51-6e4f-4c73-ce85-9e2a82ff8183"
      },
      "execution_count": null,
      "outputs": [
        {
          "output_type": "execute_result",
          "data": {
            "text/plain": [
              "['condo',\n",
              " 'iptu',\n",
              " 'bathrooms',\n",
              " 'bedrooms',\n",
              " 'floors',\n",
              " 'parkingSpaces',\n",
              " 'suites',\n",
              " 'unitFloor',\n",
              " 'unitsOnTheFloor',\n",
              " 'usableAreas',\n",
              " 'Apartamento',\n",
              " 'Casa',\n",
              " 'Outros',\n",
              " 'Zona Central',\n",
              " 'Zona Norte',\n",
              " 'Zona Oeste',\n",
              " 'Zona Sul']"
            ]
          },
          "metadata": {},
          "execution_count": 118
        }
      ]
    },
    {
      "cell_type": "code",
      "source": [
        "# criando o novo imovel\n",
        "\n",
        "novo_imovel = [{\n",
        "    'condo':200,\n",
        "    'iptu':0,\n",
        "    'bathrooms':2,\n",
        "    'bedrooms':2,\n",
        "    'floors':1,\n",
        "    'parkingSpaces':1,\n",
        "    'suites':1,\n",
        "    'unitFloor':0,\n",
        "    'unitsOnTheFloor':0,\n",
        "    'usableAreas':1,\n",
        "    'Apartamento':1,\n",
        "    'Casa':0,\n",
        "    'Outros':0,\n",
        "    'Zona Central':0,\n",
        "    'Zona Norte':0,\n",
        "    'Zona Oeste':0,\n",
        "    'Zona Sul':1,\n",
        "    'label':0\n",
        "}]"
      ],
      "metadata": {
        "id": "D-1wy_2cECRr"
      },
      "execution_count": null,
      "outputs": []
    },
    {
      "cell_type": "code",
      "source": [
        "# criando um dataframe do spark com esse novo imovel\n",
        "\n",
        "meu_imovel = spark.createDataFrame(novo_imovel)"
      ],
      "metadata": {
        "id": "roDv6H9RHeTm"
      },
      "execution_count": null,
      "outputs": []
    },
    {
      "cell_type": "code",
      "source": [
        "# utilizando o assembler para receber quais colunas desejo trabalhar\n",
        "\n",
        "assembler = VectorAssembler(inputCols=X, outputCol='features')"
      ],
      "metadata": {
        "id": "SimgsRTQEYJi"
      },
      "execution_count": null,
      "outputs": []
    },
    {
      "cell_type": "code",
      "source": [
        "# vetorizando o novo imóvel\n",
        "\n",
        "meu_lar_vetorizado = assembler.transform(meu_imovel).select('features','label')"
      ],
      "metadata": {
        "id": "VyQB-iPFG95X"
      },
      "execution_count": null,
      "outputs": []
    },
    {
      "cell_type": "code",
      "source": [
        "meu_lar_vetorizado.show(truncate=False)"
      ],
      "metadata": {
        "colab": {
          "base_uri": "https://localhost:8080/"
        },
        "id": "ZWiH4D4qH7Mj",
        "outputId": "db7b6a5f-9df0-4563-9616-f29f8fa07c37"
      },
      "execution_count": null,
      "outputs": [
        {
          "output_type": "stream",
          "name": "stdout",
          "text": [
            "+------------------------------------------------------------------+-----+\n",
            "|features                                                          |label|\n",
            "+------------------------------------------------------------------+-----+\n",
            "|(17,[0,2,3,4,5,6,9,10,16],[200.0,2.0,2.0,1.0,1.0,1.0,1.0,1.0,1.0])|0    |\n",
            "+------------------------------------------------------------------+-----+\n",
            "\n"
          ]
        }
      ]
    },
    {
      "cell_type": "code",
      "source": [
        "# prevendo o valor com o modelo\n",
        "\n",
        "modelo_rfr_cv.transform(meu_lar_vetorizado).show()"
      ],
      "metadata": {
        "colab": {
          "base_uri": "https://localhost:8080/"
        },
        "id": "_KxfPDcHIAbj",
        "outputId": "9f3235ca-ceaa-48ce-de10-9f93642a5247"
      },
      "execution_count": null,
      "outputs": [
        {
          "output_type": "stream",
          "name": "stdout",
          "text": [
            "+--------------------+-----+----------------+\n",
            "|            features|label|      prediction|\n",
            "+--------------------+-----+----------------+\n",
            "|(17,[0,2,3,4,5,6,...|    0|811770.665713355|\n",
            "+--------------------+-----+----------------+\n",
            "\n"
          ]
        }
      ]
    }
  ]
}